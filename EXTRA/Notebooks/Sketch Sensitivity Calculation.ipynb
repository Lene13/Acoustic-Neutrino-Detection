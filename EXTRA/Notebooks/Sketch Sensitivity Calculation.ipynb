{
 "cells": [
  {
   "cell_type": "markdown",
   "id": "5cf6d237",
   "metadata": {},
   "source": [
    "In the following notebook a rough idea for the calculation of a sensitivity curve for a potential acoustic neutrino telescope will be drawn up. This will be done following a paper by the KM3Net collaboration.\n",
    "\n",
    "https://www.km3net.org/wp-content/uploads/2023/05/KM3NeT_DS_TDR-published-in-2010.pdf"
   ]
  },
  {
   "cell_type": "code",
   "execution_count": 1,
   "id": "0a1686f5",
   "metadata": {},
   "outputs": [],
   "source": [
    "from scipy.integrate import quad\n",
    "from scipy.integrate import simps\n",
    "import matplotlib.pyplot as plt\n",
    "from matplotlib.ticker import MultipleLocator\n",
    "import numpy as np"
   ]
  },
  {
   "cell_type": "markdown",
   "id": "3c3ea140",
   "metadata": {},
   "source": [
    "Every single one of the following calculations will be done for different energies. In order to make a rather smooth curve we will use the following energy range and values:\n",
    "\n",
    "E(eV) = [$10^{16}, 10^{16.5}, 10^{17}, 10^{17.5}, 10^{18}, 10^{18.5}, 10^{19}$]"
   ]
  },
  {
   "cell_type": "code",
   "execution_count": 36,
   "id": "7153f9b5",
   "metadata": {},
   "outputs": [],
   "source": [
    "E = [10**16, 10**(16.5), 10**17, 10**(17.5), 10**18, 10**(18.5), 10**19]\n",
    "\n",
    "# from https://arxiv.org/pdf/1305.7513.pdf we find the neutrino cross sections\n",
    "cross_section = [10**(-6.9), 10**(-7.2), 10**(-7.6), 10**(-7.7), 10**(-7.8), 10**(-7.85), 10**(-7.9)]"
   ]
  },
  {
   "cell_type": "markdown",
   "id": "c0479017",
   "metadata": {},
   "source": [
    "The first thing needed for a sensitivity curve is the *Detector Effective Volume* ($V_{eff}(E_{\\nu}, \\theta_{\\nu})$). This is defined by the following formula:\n",
    "\n",
    "$$ V_{eff}(E_{\\nu}, \\theta_{\\nu}) = \\frac{N_{rec}(E_{\\nu}, \\theta_{\\nu})}{N_{gen}(E_{\\nu}, \\theta_{\\nu})} * V_{gen}$$\n",
    "\n",
    "**Parameters:**\n",
    "* $N_{rec}(E_{\\nu}, \\theta_{\\nu})$ = number of reconstructed events\n",
    "* $N_{gen}(E_{\\nu}, \\theta_{\\nu})$ = neutrino interactions in $V_{gen}$\n",
    "* $V_{gen}$ = generation volume"
   ]
  },
  {
   "cell_type": "code",
   "execution_count": 38,
   "id": "b4735f7d",
   "metadata": {},
   "outputs": [],
   "source": [
    "def detector_effective_volume(Nrec, Ngen, Vgen):\n",
    "    # initialize a list to store values\n",
    "    Veff = []\n",
    "    \n",
    "    # plug in the above formula\n",
    "    for i in range(0, len(Nrec)):\n",
    "        Veff_value = (Nrec[i] / Ngen[i]) * Vgen\n",
    "        Veff.append(Veff_value)\n",
    "        \n",
    "    return Veff"
   ]
  },
  {
   "cell_type": "code",
   "execution_count": 39,
   "id": "b6272eca",
   "metadata": {},
   "outputs": [
    {
     "name": "stdout",
     "output_type": "stream",
     "text": [
      "The best possible effective volume of the detector would be [65500.0, 65500.0, 65500.0, 65500.0, 65500.0, 65500.0, 65500.0] km^3.\n"
     ]
    }
   ],
   "source": [
    "# Nrec = can be determined after running Monte Carlo \n",
    "# Ngen = can be determined after running Monte Carlo \n",
    "# Vgen = can be determined after running Monte Carlo \n",
    "\n",
    "# for an optimal scenario\n",
    "Nrec_best = [10, 10, 10, 10, 10, 10, 10]    # as long as this is the same as Ngen_best the \n",
    "Ngen_best = [10, 10, 10, 10, 10, 10, 10]    # detector is functioning in full potential\n",
    "Vgen_best = 65500                           # in km --> sphere with a radius of 25 km\n",
    "\n",
    "# calculate the best possible effective volume\n",
    "Veff_best = detector_effective_volume(Nrec_best, Ngen_best, Vgen_best)\n",
    "\n",
    "print(f\"The best possible effective volume of the detector would be {Veff_best} km^3.\")"
   ]
  },
  {
   "cell_type": "markdown",
   "id": "a6f5cdd7",
   "metadata": {},
   "source": [
    "Then the *Neurtino Effective Area* ($A_{eff}^{\\nu}(E_{\\nu}, \\theta_{\\nu})$) can be calculated with the following formula: \n",
    "\n",
    "$$A_{eff}^{\\nu}(E_{\\nu}, \\theta_{\\nu}) = V_{eff}(E_{\\nu}, \\theta_{\\nu}) \\times \\rho N_A \\times \\sigma(E_{\\nu}) \\times P_{earth}(E_{\\nu}, \\theta_{\\nu})$$\n",
    "\n",
    "**Parameters:**\n",
    "* $A_{eff}^{\\nu}(E_{\\nu}, \\theta_{\\nu})$ = neutrino effective area\n",
    "* $V_{eff}(E_{\\nu}, \\theta_{\\nu})$ = detector effective formula calculated above\n",
    "* $\\rho N_A$ = number of nucleons per unit volume ($\\rho$ = effective matter density [$\\frac{mol}{V}$], $N_A$ = Avogadro number)\n",
    "* $\\sigma(E_{\\nu})$ = neutrino cross section in the reaction channel considered\n",
    "* $P_{earth}(E_{\\nu}, \\theta_{\\nu})$ = neutrino transmission probability through the Earth"
   ]
  },
  {
   "cell_type": "code",
   "execution_count": 29,
   "id": "9bb41c95",
   "metadata": {},
   "outputs": [],
   "source": [
    "def neutrino_effective_area(Nrec, Ngen, Vgen, rho, Na, sigma, Pearth):\n",
    "    \n",
    "    # define the detector effective volume\n",
    "    Veff = detector_effective_volume(Nrec, Ngen, Vgen)\n",
    "    \n",
    "    # plug in the above formula\n",
    "    Aeff = Veff * rho * Na * sigma * Pearth\n",
    "        \n",
    "    return Aeff"
   ]
  },
  {
   "cell_type": "markdown",
   "id": "549b438f",
   "metadata": {},
   "source": [
    "For neutrino cross-section, look in the following article: https://arxiv.org/pdf/1305.7513.pdf"
   ]
  },
  {
   "cell_type": "markdown",
   "id": "51794f45",
   "metadata": {},
   "source": [
    "The *Neutrino Transmission Probability* is the likelihood that a neutrino of a certain energy and initial flavor, traveling through the Earth's matter, will retain its flavor or change to a different flavor before being detected. In the SeaGen code this quantity is formulised as the following:\n",
    "\n",
    "$$P_{earth}(E_{\\nu}, cos θ_{\\nu}) = e^{−N_A*\\sigma(E_{\\nu})* \\rho_l(θ_{\\nu})}$$\n",
    "\n",
    "**Parameters:**\n",
    "* $P_{earth}(E_{\\nu}, cos θ_{\\nu})$ = the neutrino transmission probability through earth\n",
    "* $N_A$ = Avogadro's number\n",
    "* $\\sigma(E_{\\nu})$ = neutrino cross section in the reaction channel considered\n",
    "* $\\rho_l(θ_{\\nu})$ = is the amount of material encountered by a neutrino in its passage through the Earth\n",
    "\n",
    "https://arxiv.org/pdf/1602.00501.pdf"
   ]
  },
  {
   "cell_type": "code",
   "execution_count": 5,
   "id": "a07ea040",
   "metadata": {},
   "outputs": [],
   "source": [
    "def neutrino_transmission_probability(Na, sigma):\n",
    "    \n",
    "    # find the material to cross in earth\n",
    "    material = amount_of_material_earth(rho_earth, L)\n",
    "    \n",
    "    # perform the function\n",
    "    Pearth = np.exp**(-Na * sigma * material)\n",
    "    \n",
    "    return Pearth"
   ]
  },
  {
   "cell_type": "markdown",
   "id": "5b8b3442",
   "metadata": {},
   "source": [
    "The amount of material encountered in earth can be determined with the following formula:\n",
    "\n",
    "$$\\rho_l(θ_{\\nu}) = \\int_{L} \\rho_{earth(r)} dl$$\n",
    "\n",
    "**Parameters:**\n",
    "* $L$ = neutrino path at angle $\\theta_{\\nu}$\n",
    "* $\\rho_{earth(r)}$ = PREM Model of the earth following https://lweb.cfa.harvard.edu/~lzeng/papers/PREM.pdf"
   ]
  },
  {
   "cell_type": "code",
   "execution_count": 6,
   "id": "4c246e72",
   "metadata": {},
   "outputs": [],
   "source": [
    "def amount_of_material_earth(rho_earth, L):\n",
    "\n",
    "    # perform the integral\n",
    "    result, _ = spi.quad(rho_earth, 0, L)\n",
    "\n",
    "    return result"
   ]
  },
  {
   "cell_type": "code",
   "execution_count": 33,
   "id": "128edbce",
   "metadata": {},
   "outputs": [
    {
     "name": "stdout",
     "output_type": "stream",
     "text": [
      "The best possible neutrino effective area would be 3.549969e+28 km^2.\n"
     ]
    }
   ],
   "source": [
    "# put in known values\n",
    "Na = 6.022e23                    # Avogadro number\n",
    "sigma = cross_section            # Neutrino cross section\n",
    "\n",
    "# use some arbitrary values instead of formula's that are energy dependent\n",
    "rho_best = 10**15                # in g/km^3 = 1 g/cm^3 --> Effective matter density in mol per volume\n",
    "Pearth_best = 0.9                # Neutrino transmission probability through the Earth\n",
    "\n",
    "# calculate the best possible area\n",
    "Aeff_best = neutrino_effective_area(Nrec_best, Ngen_best, Vgen_best, rho_best, Na, sigma_best, Pearth_best)\n",
    "\n",
    "print(f\"The best possible neutrino effective area would be {Aeff_best} km^2.\")"
   ]
  },
  {
   "cell_type": "code",
   "execution_count": 7,
   "id": "11d2e0e2",
   "metadata": {},
   "outputs": [],
   "source": [
    "#L = ???\n",
    "#rho_earth = ???"
   ]
  },
  {
   "cell_type": "code",
   "execution_count": 8,
   "id": "75a940bb",
   "metadata": {},
   "outputs": [],
   "source": [
    "# define Avogadro's constant [mol^-1]\n",
    "Na = 6.02214076 * 10**(23)"
   ]
  },
  {
   "cell_type": "code",
   "execution_count": 9,
   "id": "81d2f6cc",
   "metadata": {},
   "outputs": [
    {
     "ename": "NameError",
     "evalue": "name 'Nrec' is not defined",
     "output_type": "error",
     "traceback": [
      "\u001b[1;31m---------------------------------------------------------------------------\u001b[0m",
      "\u001b[1;31mNameError\u001b[0m                                 Traceback (most recent call last)",
      "Cell \u001b[1;32mIn[9], line 2\u001b[0m\n\u001b[0;32m      1\u001b[0m \u001b[38;5;66;03m# find Veff with the above defined formula\u001b[39;00m\n\u001b[1;32m----> 2\u001b[0m Veff \u001b[38;5;241m=\u001b[39m detector_effective_volume(Nrec, Ngen, Vgen)\n\u001b[0;32m      4\u001b[0m \u001b[38;5;66;03m# define the density of water at a depth of 1500 m [g/cm^3]\u001b[39;00m\n\u001b[0;32m      5\u001b[0m density \u001b[38;5;241m=\u001b[39m \u001b[38;5;241m0.998\u001b[39m\n",
      "\u001b[1;31mNameError\u001b[0m: name 'Nrec' is not defined"
     ]
    }
   ],
   "source": [
    "# find Veff with the above defined formula\n",
    "Veff = detector_effective_volume(Nrec, Ngen, Vgen)\n",
    "\n",
    "# define the density of water at a depth of 1500 m [g/cm^3]\n",
    "density = 0.998\n",
    "# get the molar mass of water [g/mol]\n",
    "molar_mass = 18.01528 \n",
    "# the matter density is then [mol/cm^3]\n",
    "rho = density / molar_mass\n",
    "\n",
    "# http://cupp.oulu.fi/neutrino/nd-cross.html\n",
    "#sigma = ???"
   ]
  },
  {
   "cell_type": "markdown",
   "id": "ba4be49c",
   "metadata": {},
   "source": [
    "Lastly, to find the *Number of Detectable Events* ($N_s$) we can use the following formula:\n",
    "\n",
    "$$N_s = \\int \\int A_{eff}^{\\nu}(E_{\\nu}, \\theta_{\\nu}) \\frac{d\\phi_{\\nu}}{dE_{\\nu}d\\theta_{\\nu}} dE_{\\nu}d\\theta_{\\nu}$$\n",
    "\n",
    "**Parameters:**\n",
    "* $N_s$ = number of detectable events\n",
    "* $A_{eff}^{\\nu}(E_{\\nu}, \\theta_{\\nu})$ = neutrino effective area calculated above\n",
    "* $\\frac{d\\phi_{\\nu}}{dE_{\\nu}d\\theta_{\\nu}}$ = predicted astrophysical flux "
   ]
  },
  {
   "cell_type": "markdown",
   "id": "e67024ce",
   "metadata": {},
   "source": [
    "First we need a function for the predicted astrophysical flux. This we can find in the following source where they approximatethe flux around $10^{19}$ eV to be:\n",
    "\n",
    "$$(\\frac{d\\phi_{\\nu}}{dE_{\\nu}})_{limit} = \\frac{1 - 4 \\times 10^{-8}}{E_{\\nu}^2} GeV cm^{-2} s^{-1} sr^{-1}$$\n",
    "\n",
    "We also know:\n",
    "\n",
    "$$ \\frac{d\\phi_{\\nu}}{dE_{\\nu}d\\theta_{\\nu}} = \\frac{d\\phi_{\\nu}}{dE_{\\nu}} * \\frac{1}{\\Omega} $$\n",
    "\n",
    "https://iopscience.iop.org/article/10.1086/340281/pdf"
   ]
  },
  {
   "cell_type": "code",
   "execution_count": null,
   "id": "f364a43a",
   "metadata": {},
   "outputs": [],
   "source": [
    "def predicted_astrophysical_flux(E, solid_angle):\n",
    "    # (dphi)/(dE dtheta)\n",
    "    dphi_dEdtheta = (4 * 10**(-8) / E**2) * (1 / solid_angle) \n",
    "    return dphi_dEdtheta"
   ]
  },
  {
   "cell_type": "code",
   "execution_count": 11,
   "id": "de8cf69d",
   "metadata": {},
   "outputs": [],
   "source": [
    "def astrophysical_flux_limit(E):\n",
    "    # (dphi)/(dE)\n",
    "    dphi_dE = (1 * 10**(-8) / E**2) \n",
    "    return dphi_dE"
   ]
  },
  {
   "cell_type": "code",
   "execution_count": 20,
   "id": "9088db0c",
   "metadata": {},
   "outputs": [],
   "source": [
    "# Set up the energy range\n",
    "E_v_log = np.linspace(0, 20, 100)\n",
    "E_v = [10**i for i in E_v_log]\n",
    "E_v_GeV = [i - 9 for i in E_v_log]\n",
    "\n",
    "# Initialize list\n",
    "flux = []\n",
    "\n",
    "# Loop through the energies\n",
    "for i in range(len(E_v)):\n",
    "    energy = E_v[i]\n",
    "    flux_i = astrophysical_flux_limit(energy)\n",
    "    flux.append(flux_i)\n",
    "\n",
    "flux_log = [np.log10(i) for i in flux]\n",
    "flux_E_log_list = []\n",
    "\n",
    "for i in range(0, len(E_v)):\n",
    "    flux_E = flux[i] * (E_v[i])**2\n",
    "    flux_E_log = np.log10(flux_E)\n",
    "    flux_E_log_list.append(flux_E_log)"
   ]
  },
  {
   "cell_type": "code",
   "execution_count": 21,
   "id": "0f112ac2",
   "metadata": {},
   "outputs": [
    {
     "data": {
      "image/png": "[encoded data removed]",
      "text/plain": [
       "<Figure size 640x480 with 1 Axes>"
      ]
     },
     "metadata": {},
     "output_type": "display_data"
    }
   ],
   "source": [
    "# plot the neutrino energies against the flux values in a graph\n",
    "plt.plot(E_v_log, flux_E_log_list, label='flux neutrino', color='cyan')\n",
    "\n",
    "# Add labels and a title\n",
    "plt.xlabel('log[neutrino energy]')\n",
    "\n",
    "plt.ylabel('log[dPhi/dE] (cm^-2 s^-1 sr^-1)')\n",
    "\n",
    "plt.title('The estimated limit on UHE neutrino flux of FORTE')\n",
    "plt.legend()\n",
    "\n",
    "# Show the plot\n",
    "plt.show()"
   ]
  },
  {
   "cell_type": "code",
   "execution_count": 14,
   "id": "813d7607",
   "metadata": {},
   "outputs": [],
   "source": [
    "# calculate the solid angle of the detector\n",
    "# solid_angle = ???"
   ]
  },
  {
   "cell_type": "code",
   "execution_count": 15,
   "id": "3e506391",
   "metadata": {},
   "outputs": [
    {
     "ename": "SyntaxError",
     "evalue": "invalid syntax (1283706790.py, line 17)",
     "output_type": "error",
     "traceback": [
      "\u001b[1;36m  Cell \u001b[1;32mIn[15], line 17\u001b[1;36m\u001b[0m\n\u001b[1;33m    theta_nu_min = ???\u001b[0m\n\u001b[1;37m                   ^\u001b[0m\n\u001b[1;31mSyntaxError\u001b[0m\u001b[1;31m:\u001b[0m invalid syntax\n"
     ]
    }
   ],
   "source": [
    "def number_of_detectable_events(Nrec, Ngen, Vgen, rho, Na, sigma, Pearth, E, solid_angle):\n",
    "    \n",
    "    # define the function to be integrated\n",
    "    def integrand(Nrec, Ngen, Vgen, rho, Na, sigma, Pearth, E, solid_angle):\n",
    "        \n",
    "        # define the neutrino effective area\n",
    "        Aeff = neutrino_effective_area(Nrec, Ngen, Vgen, rho, Na, sigma, Pearth)\n",
    "        \n",
    "        # define the neutrino effective area\n",
    "        astrophysical_flux = predicted_astrophysical_flux(E, solid_angle)\n",
    "        \n",
    "        return Aeff * astrophysical_flux\n",
    "\n",
    "    # Define the limits of integration for E_nu and theta_nu\n",
    "    E_nu_min = 10**(16)  \n",
    "    E_nu_max = 10**(21)\n",
    "    theta_nu_min = ???\n",
    "    theta_nu_max = ???\n",
    "\n",
    "    # Calculate the integral\n",
    "    result, _ = dblquad(integrand, theta_nu_min, theta_nu_max, lambda _: E_nu_min, lambda _: E_nu_max)\n",
    "\n",
    "    return result"
   ]
  },
  {
   "cell_type": "code",
   "execution_count": null,
   "id": "edd20211",
   "metadata": {},
   "outputs": [],
   "source": []
  },
  {
   "cell_type": "code",
   "execution_count": null,
   "id": "8ddfd232",
   "metadata": {},
   "outputs": [],
   "source": []
  },
  {
   "cell_type": "code",
   "execution_count": 23,
   "id": "14b97fb7",
   "metadata": {},
   "outputs": [
    {
     "ename": "IndentationError",
     "evalue": "unexpected indent (3769427104.py, line 5)",
     "output_type": "error",
     "traceback": [
      "\u001b[1;36m  Cell \u001b[1;32mIn[23], line 5\u001b[1;36m\u001b[0m\n\u001b[1;33m    return A\u001b[0m\n\u001b[1;37m    ^\u001b[0m\n\u001b[1;31mIndentationError\u001b[0m\u001b[1;31m:\u001b[0m unexpected indent\n"
     ]
    }
   ],
   "source": [
    "import numpy as np\n",
    "import matplotlib.pyplot as plt\n",
    "\n",
    "\n",
    "    return A\n",
    "\n",
    "# Function to calculate the detector effective volume\n",
    "def detector_effective_volume(N_rec, N_gen, V_gen):\n",
    "    # Calculate effective volume\n",
    "    V_eff = V_gen * (N_rec / N_gen)\n",
    "\n",
    "    return V_eff\n",
    "\n",
    "# Function to calculate the Model Rejection Factor\n",
    "def model_rejection_factor(N_signal_upper_limit, N_signal_expected):\n",
    "    # Calculate Model Rejection Factor\n",
    "    MRF = N_signal_upper_limit / N_signal_expected\n",
    "\n",
    "    return MRF\n",
    "\n",
    "# Energy range\n",
    "energy_range = np.linspace(1, 10, 100)  # Example energy range from 1 to 10\n",
    "\n",
    "# Flux model parameters\n",
    "flux_model_normalization = 1.0  # Adjust as needed\n",
    "\n",
    "# Arrays to store results\n",
    "sensitivities = []\n",
    "\n",
    "# Iterate over energy range\n",
    "for energy in energy_range:\n",
    "    # Example: Calculate the effective area and effective volume\n",
    "    A = neutrino_effective_area(energy, np.pi / 4)\n",
    "    V_eff = detector_effective_volume(100, 200, 1000)  # Example values for N_rec, N_gen, V_gen\n",
    "\n",
    "    # Calculate the average flux limit\n",
    "    phi_S = flux_model_normalization\n",
    "    mu_90 = 1.0  # Example mean number of background events\n",
    "\n",
    "    # Example: Calculate the Model Rejection Factor\n",
    "    N_signal_upper_limit = 5  # Adjust as needed\n",
    "    N_signal_expected = phi_S * V_eff\n",
    "\n",
    "    MRF = model_rejection_factor(N_signal_upper_limit, N_signal_expected)\n",
    "\n",
    "    # Store sensitivity values\n",
    "    sensitivity = 1 / MRF\n",
    "    sensitivities.append(sensitivity)\n",
    "\n",
    "# Plot the sensitivity\n",
    "plt.plot(energy_range, sensitivities, label='Sensitivity')\n",
    "plt.xlabel('Energy (GeV)')\n",
    "plt.ylabel('Sensitivity')\n",
    "plt.title('Telescope Sensitivity vs. Energy')\n",
    "plt.legend()\n",
    "plt.show()"
   ]
  },
  {
   "cell_type": "code",
   "execution_count": 22,
   "id": "0949e2d4",
   "metadata": {},
   "outputs": [
    {
     "data": {
      "image/png": "[encoded data removed]",
      "text/plain": [
       "<Figure size 640x480 with 1 Axes>"
      ]
     },
     "metadata": {},
     "output_type": "display_data"
    }
   ],
   "source": [
    "import numpy as np\n",
    "import matplotlib.pyplot as plt\n",
    "\n",
    "# Function to calculate the neutrino flux model (replace this with your actual model)\n",
    "def neutrino_flux_model(E_nu):\n",
    "    # Example: Power-law flux model (adjust as needed)\n",
    "    phi_0 = 1.0  # Normalization constant\n",
    "    gamma = -2.0  # Spectral index\n",
    "\n",
    "    return phi_0 * (E_nu ** gamma)\n",
    "\n",
    "# Function to calculate the Model Rejection Factor\n",
    "def model_rejection_factor(N_signal_upper_limit, N_signal_expected):\n",
    "    # Calculate Model Rejection Factor\n",
    "    MRF = N_signal_upper_limit / N_signal_expected\n",
    "\n",
    "    return MRF\n",
    "\n",
    "# Energy range\n",
    "energy_range = np.logspace(0, 2, 100)  # Logarithmic energy range from 1 GeV to 100 GeV\n",
    "\n",
    "# Flux model parameters\n",
    "flux_model = np.vectorize(neutrino_flux_model)\n",
    "\n",
    "# Arrays to store results\n",
    "flux_values = []\n",
    "\n",
    "# Iterate over energy range\n",
    "for energy in energy_range:\n",
    "    # Example: Calculate the flux at each energy\n",
    "    flux = flux_model(energy)\n",
    "\n",
    "    # Store flux values\n",
    "    flux_values.append(flux)\n",
    "\n",
    "# Plot the flux against energy with log scale on both axes\n",
    "plt.plot(energy_range, flux_values, label='Neutrino Flux')\n",
    "plt.xscale('log')\n",
    "plt.yscale('log')\n",
    "plt.xlabel('Energy (GeV)')\n",
    "plt.ylabel('Flux (cm$^{-2}$ s$^{-1}$ GeV$^{-1}$)')\n",
    "plt.title('Neutrino Flux vs. Energy (Log Scale)')\n",
    "plt.legend()\n",
    "plt.show()"
   ]
  },
  {
   "cell_type": "markdown",
   "id": "14327cad",
   "metadata": {},
   "source": [
    "## Things to find out\n",
    "\n",
    "#### Parameters\n",
    "* Nrec \n",
    "* Ngen \n",
    "* Vgen \n",
    "* L\n",
    "* rho_earth\n",
    "* sigma\n",
    "* solid_angle\n",
    "* Pearth = 1 since no neutrino's are able to get through"
   ]
  },
  {
   "cell_type": "markdown",
   "id": "9a0debcb",
   "metadata": {},
   "source": [
    "**Theoretical Modeling:**\n",
    "* Astrophysical neutrino flux models predict the expected flux of neutrinos coming from various astrophysical sources (e.g., supernovae, active galactic nuclei, gamma-ray bursts).\n",
    "* Cross-section models describe the likelihood of neutrino interactions with the detector material, taking into account the energy of the neutrinos and the specific reaction channel.\n",
    "* Neutrino transmission probability through the Earth (Pearth) accounts for the fact that neutrinos must pass through the Earth to reach the detector.\n",
    "\n",
    "**Simulation:**\n",
    "* To calculate the effective area (Aeff) and effective volume (Veff) for the detector, you would typically use simulations.\n",
    "* Simulate the detector's response to neutrinos of different energies (Eν) and arrival angles (θν).\n",
    "* Simulate the detector's response to background events.\n",
    "* Generate Monte Carlo data sets that mimic the expected interactions of neutrinos and background events in the detector.\n",
    "\n",
    "**Data Analysis:**\n",
    "* Analyze the simulated data sets and evaluate the detector's response to both signal (neutrinos) and background events.\n",
    "* Apply event reconstruction algorithms to identify and reconstruct neutrino interactions.\n",
    "* Calculate the number of reconstructed events (Nrec) and background events (if any) for each energy (Eν) and arrival angle (θν).\n",
    "\n",
    "**Sensitivity Calculation:**\n",
    "* Use the reconstructed events and background events to calculate the detector's effective volume (Ve f f) as a function of energy (Eν) and angle (θν).\n",
    "* Apply the theoretical model for the astrophysical neutrino flux (Φ(Eν, θν)).\n",
    "* Calculate the number of detectable events (Ndet) using the formula Ndet = Φ(Eν, θν) × A(Eν, θν) × Ve f f (Eν, θν).\n",
    "\n",
    "**Discovery or Limit Setting:**\n",
    "* Depending on the goals of the analysis (discovery or limit setting), apply statistical techniques.\n",
    "* For discovery, optimize cuts and thresholds to determine the least signal necessary for a discovery based on the model discovery potential (MDP).\n",
    "* For limit setting, calculate the model rejection factor (MRF) to set upper limits on the expected signal, assuming no true signal is present.\n",
    "\n",
    "**Sensitivity Report:**\n",
    "* Provide sensitivity values for different energy ranges, angles, and levels of significance (e.g., 3σ, 5σ).\n",
    "* Report the sensitivity of the detector to different types of neutrino sources, as predicted by the astrophysical neutrino flux models."
   ]
  }
 ],
 "metadata": {
  "kernelspec": {
   "display_name": "Python 3 (ipykernel)",
   "language": "python",
   "name": "python3"
  },
  "language_info": {
   "codemirror_mode": {
    "name": "ipython",
    "version": 3
   },
   "file_extension": ".py",
   "mimetype": "text/x-python",
   "name": "python",
   "nbconvert_exporter": "python",
   "pygments_lexer": "ipython3",
   "version": "3.11.4"
  }
 },
 "nbformat": 4,
 "nbformat_minor": 5
}
