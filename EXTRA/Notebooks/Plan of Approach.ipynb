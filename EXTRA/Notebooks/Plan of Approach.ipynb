{
 "cells": [
  {
   "cell_type": "code",
   "execution_count": 6,
   "id": "6a3eb9c2",
   "metadata": {},
   "outputs": [],
   "source": [
    "import numpy as np\n",
    "from scipy.integrate import quad\n",
    "import matplotlib.pyplot as plt"
   ]
  },
  {
   "cell_type": "markdown",
   "id": "425e7830",
   "metadata": {},
   "source": [
    "## Papers\n",
    "* 1. https://arxiv.org/pdf/astro-ph/0608312.pdf\n",
    "* 2. https://ecap.nat.fau.de/wp-content/uploads/2017/04/habil_schrift.pdf"
   ]
  },
  {
   "cell_type": "markdown",
   "id": "c138e39b",
   "metadata": {},
   "source": [
    "## Formula's"
   ]
  },
  {
   "cell_type": "markdown",
   "id": "ab672487",
   "metadata": {},
   "source": [
    "Following the paper of Lahman the following formula (4.28) represents the number of detected events over time T:\n",
    "\n",
    "$$N_d = 2\\pi T \\int dE  \\Phi(E) \\frac{V_{eff}(E)}{\\lambda(E)}$$\n"
   ]
  },
  {
   "cell_type": "markdown",
   "id": "8630dd7c",
   "metadata": {},
   "source": [
    "The first thing needed for a sensitivity curve is the *Detector Effective Volume* ($V_{eff}(E_{\\nu})$). This is defined by the following formula:\n",
    "\n",
    "$$ V_{eff}(E_{\\nu}) = \\frac{N_{rec}(E_{\\nu})}{N_{gen}(E_{\\nu})} * V_{gen}$$\n",
    "\n",
    "**Parameters:**\n",
    "* $N_{rec}(E_{\\nu})$ = number of reconstructed events\n",
    "* $N_{gen}(E_{\\nu})$ = neutrino interactions in $V_{gen}$\n",
    "* $V_{gen}$ = generation volume"
   ]
  },
  {
   "cell_type": "markdown",
   "id": "a6cfbfde",
   "metadata": {},
   "source": [
    "We also know that the spectral event rate and the flux at the detector flux are related to one another:\n",
    "\n",
    "$$\\frac{dN}{dtdE} = \\Phi(E) * \\frac{V_{eff}(E)}{\\lambda(E)}$$\n",
    "\n",
    "\n",
    "**Parameters:**\n",
    "* $\\frac{dN}{dtdE}$ = spectral event rate [$GeV^{-1} yr^{-1}$]\n",
    "* $\\Phi(E)$ = flux at the detector surface [$GeV^{-1} cm^{-2} s^{-1} sr^{-1}$]\n",
    "* $V_{eff}(E)$ = the effective volume of the detector [$cm^3$]\n",
    "* $\\lambda(E)$ = the mean free path [$cm$]\n",
    "\n",
    "We also know that\n",
    "\n",
    "$$ E^2 \\Phi(E) = E^2 * \\Phi(E)$$\n",
    "\n",
    "* $E$ = energy [$GeV$]\n",
    "* $\\Phi(E)$ = flux at the detector surface [$GeV^{-1} cm^{-2} s^{-1} sr^{-1}$]\n",
    "* $E^2 \\Phi(E)$ = weighted flux or energy-squared flux [$GeV cm^{-2} s^{-1} sr^{-1}$]\n"
   ]
  },
  {
   "cell_type": "markdown",
   "id": "47a7f603",
   "metadata": {},
   "source": [
    "## Parameters\n",
    "*colourcode:*\n",
    "* *<span style=\"color: green;\"> green </span>: this parameter is already known or can be calculated already*\n",
    "* *<span style=\"color: orange;\"> orange </span>: this parameter is partly known or can be calculated from a red parameter*\n",
    "* *<span style=\"color: red;\"> red </span>: this parameter is not known and should be researched*"
   ]
  },
  {
   "cell_type": "markdown",
   "id": "8358ffa0",
   "metadata": {},
   "source": [
    "####  <span style=\"color: green;\"> 1. E = Energy [eV, GeV] </span>\n",
    "\n",
    "Make a range from $10^{10}$ to $10^{16}$ GeV and calculate/find the values for the other parameters for as many energies as possible within this range (smoother curve)."
   ]
  },
  {
   "cell_type": "markdown",
   "id": "2d5854ef",
   "metadata": {},
   "source": [
    "#### <span style=\"color: orange;\"> 2. $\\lambda$ = Mean Free Path [cm] </span>\n",
    "\n",
    "Can be taken from the second paper up till $10^{14}$ GeV, above that further research."
   ]
  },
  {
   "cell_type": "markdown",
   "id": "75b450b8",
   "metadata": {},
   "source": [
    "#### <span style=\"color: red;\"> 3. $V_{eff}$ = Effective Volume [$cm^3$] </span>\n",
    "\n",
    "Find the effective volume by Monte Carlo simulations using the following formula:\n",
    "\n",
    "$$ V_{eff}(E_{\\nu}, \\theta_{\\nu}) = \\frac{N_{rec}(E_{\\nu}, \\theta_{\\nu})}{N_{gen}(E_{\\nu}, \\theta_{\\nu})} * V_{gen}$$"
   ]
  },
  {
   "cell_type": "markdown",
   "id": "44117104",
   "metadata": {},
   "source": [
    "*Steps*:\n",
    "\n",
    "1. *Figure out how to simulate differently energetic pulses in the simulation code (a.k.a. figure out what amplitude pulse at what distance each of the energies gives).*\n",
    "2. *In order to correctly simulate the detector response, the detection capabilities of the individual hydrophones should be known. Only then can we know how well a pulse is picked up on for each of the hydrophones. *\n",
    "3. *Simulate noise of around 26 Hz for each of the hydrophones to simulate data. However, it could be that this noise is distinguishable from the neutrino pulse with machine learning or other methods, so look into the real noise or assume a more realistic variable.*\n",
    "4. *Look into generation volume and determine what Can values are realistic in real time. Generally speaking, the bigger the can value, the bigger the area you can span, so more possible neutrino hits. The downside is the reconstruction efficiency that false when events are detected outside of the detector volume.*\n",
    "5. *Run the code and find the number of detected events. From this the effective volume can be calculated and used in the sensitivity calculations.*"
   ]
  },
  {
   "cell_type": "markdown",
   "id": "04236811",
   "metadata": {},
   "source": [
    "####  <span style=\"color: green;\"> 4. $\\frac{dN}{dtdE}$ = Spectral Event Rate [$GeV^{-1} yr^{-1}$] </span>\n",
    "\n",
    "In paper 2 on page 88 it says: for this flux, the value from Eq. 2.38 without correction for evolution was used and multiplied by 1.5 to account for all neutrino flavours. The resulting value $\\Phi E^2 = 2.25 * 10^{−8} GeV^{−1}s^{−1}cm^{−2}sr^{−1}$ is too small by a factor of 3 in case of strong evolution but roughly a factor of 2 too high in case measurements by the Pierre Auger Observatory are used for normalisation (see Sec. 2.5.2)."
   ]
  },
  {
   "cell_type": "markdown",
   "id": "f395e7c5",
   "metadata": {},
   "source": [
    "####  <span style=\"color: orange;\"> 5. $\\Phi(E)$ = Flux at the Detector Surface [$GeV^{-1} cm^{-3} yr^{-1}$] </span>\n",
    "\n",
    "Us the following formula to calculate the flux at the detector surface from previous parameters:\n",
    "\n",
    "$$\\frac{dN}{dtdE} = \\Phi(E) * \\frac{V_{eff}(E)}{\\lambda(E)}$$\n"
   ]
  },
  {
   "cell_type": "markdown",
   "id": "d6f927ab",
   "metadata": {},
   "source": [
    "####  <span style=\"color: green;\"> 6. T = time over which the number of events is taken [s] </span>\n",
    "\n",
    "Plug in the time you simulated for the effective volume in seconds."
   ]
  },
  {
   "cell_type": "markdown",
   "id": "cd80a057",
   "metadata": {},
   "source": [
    "# Questions\n",
    "\n",
    "* What NMin is the best?\n",
    "* Does the clique algorythm need to be adapted to different detector shape?\n",
    "* How to set up a code to match pancakes?\n",
    "* Does generation box size affect how well you can measure it (we need the 27 km)?\n",
    "* Can NMin be changed per situation to make it better?\n",
    "* 26 Hz is high, should it be covered to that extend?\n",
    "* How to fit the pancake shape instead of the clique algorythm?"
   ]
  }
 ],
 "metadata": {
  "kernelspec": {
   "display_name": "Python 3 (ipykernel)",
   "language": "python",
   "name": "python3"
  },
  "language_info": {
   "codemirror_mode": {
    "name": "ipython",
    "version": 3
   },
   "file_extension": ".py",
   "mimetype": "text/x-python",
   "name": "python",
   "nbconvert_exporter": "python",
   "pygments_lexer": "ipython3",
   "version": "3.11.4"
  }
 },
 "nbformat": 4,
 "nbformat_minor": 5
}
