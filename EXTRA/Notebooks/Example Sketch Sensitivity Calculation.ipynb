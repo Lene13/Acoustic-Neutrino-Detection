{
 "cells": [
  {
   "cell_type": "markdown",
   "id": "62f553b7",
   "metadata": {},
   "source": [
    "In the following notebook a rough idea for the calculation of a sensitivity curve for a potential acoustic neutrino telescope will be drawn up. This will be done following a paper by the KM3Net collaboration.\n",
    "\n",
    "https://www.km3net.org/wp-content/uploads/2023/05/KM3NeT_DS_TDR-published-in-2010.pdf"
   ]
  },
  {
   "cell_type": "code",
   "execution_count": 3,
   "id": "4f7b2a14",
   "metadata": {},
   "outputs": [],
   "source": [
    "from scipy.integrate import quad\n",
    "from scipy.integrate import simps\n",
    "import matplotlib.pyplot as plt\n",
    "from matplotlib.ticker import MultipleLocator\n",
    "import numpy as np"
   ]
  },
  {
   "cell_type": "markdown",
   "id": "2caa8873",
   "metadata": {},
   "source": [
    "-------------------------------------------------------------------------------------------------------------------------------\n",
    "In this notebook the general code for calculating the sensitivity of the detector will be tried out with different initial assumption that simulate a very good functionality.\n",
    "\n",
    "# Assumptions\n",
    "\n",
    "* The detector is able to reconstruct 99 out of 100 neutrino events\n",
    "* The neutrino comes from straight above without any inclination\n",
    "\n",
    "\n",
    "\n",
    "-------------------------------------------------------------------------------------------------------------------------------\n",
    "\n"
   ]
  },
  {
   "cell_type": "markdown",
   "id": "3cc8050a",
   "metadata": {},
   "source": [
    "The first thing needed for a sensitivity curve is the *Detector Effective Volume* ($V_{eff}(E_{\\nu}, \\theta_{\\nu})$). This is defined by the following formula:\n",
    "\n",
    "$$ V_{eff}(E_{\\nu}, \\theta_{\\nu}) = \\frac{N_{rec}(E_{\\nu}, \\theta_{\\nu})}{N_{gen}(E_{\\nu}, \\theta_{\\nu})} * V_{gen}$$\n",
    "\n",
    "**Parameters:**\n",
    "* $N_{rec}(E_{\\nu}, \\theta_{\\nu})$ = number of reconstructed events\n",
    "* $N_{gen}(E_{\\nu}, \\theta_{\\nu})$ = neutrino interactions in $V_{gen}$\n",
    "* $V_{gen}$ = generation volume"
   ]
  },
  {
   "cell_type": "code",
   "execution_count": 2,
   "id": "723f76aa",
   "metadata": {},
   "outputs": [],
   "source": [
    "def detector_effective_volume(Nrec, Ngen, Vgen):\n",
    "    \n",
    "    # plug in the above formula\n",
    "    Veff = (Nrec / Ngen) * Vgen\n",
    "        \n",
    "    return Veff"
   ]
  },
  {
   "cell_type": "code",
   "execution_count": 1,
   "id": "7127bbc9",
   "metadata": {},
   "outputs": [],
   "source": [
    "# Say that you find 99 of 100 neutrino events and can track them accurately\n",
    "Nrec = 99\n",
    "Ngen = 100\n",
    "\n",
    "# Make the generation volume 100 km^3 or 100000000000 m^3\n",
    "Vgen = 100000000000"
   ]
  },
  {
   "cell_type": "markdown",
   "id": "ef05d871",
   "metadata": {},
   "source": [
    "Then the *Neurtino Effective Area* ($A_{eff}^{\\nu}(E_{\\nu}, \\theta_{\\nu})$) can be calculated with the following formula: \n",
    "\n",
    "$$A_{eff}^{\\nu}(E_{\\nu}, \\theta_{\\nu}) = V_{eff}(E_{\\nu}, \\theta_{\\nu}) \\times \\rho N_A \\times \\sigma(E_{\\nu}) \\times P_{earth}(E_{\\nu}, \\theta_{\\nu})$$\n",
    "\n",
    "**Parameters:**\n",
    "* $A_{eff}^{\\nu}(E_{\\nu}, \\theta_{\\nu})$ = neutrino effective area\n",
    "* $V_{eff}(E_{\\nu}, \\theta_{\\nu})$ = detector effective formula calculated above\n",
    "* $\\rho N_A$ = number of nucleons per unit volume ($\\rho$ = effective matter density [$\\frac{mol}{V}$], $N_A$ = Avogadro number)\n",
    "* $\\sigma(E_{\\nu})$ = neutrino cross section in the reaction channel considered\n",
    "* $P_{earth}(E_{\\nu}, \\theta_{\\nu})$ = neutrino transmission probability through the Earth"
   ]
  },
  {
   "cell_type": "code",
   "execution_count": 4,
   "id": "9e7b23c9",
   "metadata": {},
   "outputs": [],
   "source": [
    "def neutrino_effective_area(Nrec, Ngen, Vgen, rho, Na, sigma, Pearth):\n",
    "    \n",
    "    # define the detector effective volume\n",
    "    Veff = detector_effective_volume(Nrec, Ngen, Vgen)\n",
    "    \n",
    "    # plug in the above formula\n",
    "    Aeff = Veff * rho * Na * sigma * Pearth\n",
    "        \n",
    "    return Aeff"
   ]
  },
  {
   "cell_type": "markdown",
   "id": "c66f3e75",
   "metadata": {},
   "source": [
    "The *Neutrino Transmission Probability* is the likelihood that a neutrino of a certain energy and initial flavor, traveling through the Earth's matter, will retain its flavor or change to a different flavor before being detected. In the SeaGen code this quantity is formulised as the following:\n",
    "\n",
    "$$P_{earth}(E_{\\nu}, cos θ_{\\nu}) = e^{−N_A*\\sigma(E_{\\nu})* \\rho_l(θ_{\\nu})}$$\n",
    "\n",
    "**Parameters:**\n",
    "* $P_{earth}(E_{\\nu}, cos θ_{\\nu})$ = the neutrino transmission probability through earth\n",
    "* $N_A$ = Avogadro's number\n",
    "* $\\sigma(E_{\\nu})$ = neutrino cross section in the reaction channel considered\n",
    "* $\\rho_l(θ_{\\nu})$ = is the amount of material encountered by a neutrino in its passage through the Earth\n",
    "\n",
    "https://arxiv.org/pdf/1602.00501.pdf"
   ]
  },
  {
   "cell_type": "code",
   "execution_count": 5,
   "id": "d23f23ec",
   "metadata": {},
   "outputs": [],
   "source": [
    "def neutrino_transmission_probability(Na, sigma):\n",
    "    \n",
    "    # find the material to cross in earth\n",
    "    # material = amount_of_material_earth(rho_earth, L)\n",
    "    \n",
    "    # perform the function\n",
    "    Pearth = np.exp**(-Na * sigma * material)\n",
    "    \n",
    "    return Pearth"
   ]
  },
  {
   "cell_type": "markdown",
   "id": "6c307e57",
   "metadata": {},
   "source": [
    "The amount of material encountered in earth can be determined with the following formula:\n",
    "\n",
    "$$\\rho_l(θ_{\\nu}) = \\int_{L} \\rho_{earth(r)} dl$$\n",
    "\n",
    "**Parameters:**\n",
    "* $L$ = neutrino path at angle $\\theta_{\\nu}$\n",
    "* $\\rho_{earth(r)}$ = PREM Model of the earth following https://lweb.cfa.harvard.edu/~lzeng/papers/PREM.pdf"
   ]
  },
  {
   "cell_type": "code",
   "execution_count": 14,
   "id": "c50efffb",
   "metadata": {},
   "outputs": [],
   "source": [
    "def amount_of_material_earth(rho_earth, L):\n",
    "\n",
    "    # perform the integral\n",
    "    result, _ = spi.quad(rho_earth, 0, L)\n",
    "\n",
    "    return result"
   ]
  },
  {
   "cell_type": "code",
   "execution_count": null,
   "id": "7b723981",
   "metadata": {},
   "outputs": [],
   "source": [
    "# the neutrino's travel through air first and then through water [kg/m^3] and [km]\n",
    "density_air_bottom = 1.225 \n",
    "density_air_top = 0\n",
    "L_atmosphere = 10000 \n",
    "\n",
    "density_water_bottom = 998\n",
    "density_water_top = 997\n",
    "L_water = 1.5"
   ]
  },
  {
   "cell_type": "code",
   "execution_count": 7,
   "id": "0334a5ac",
   "metadata": {},
   "outputs": [
    {
     "name": "stdout",
     "output_type": "stream",
     "text": [
      "7616250.0\n"
     ]
    }
   ],
   "source": [
    "# so we can say that the amount_of_material_earth is equal to the following\n",
    "material = 10000000 * 0.612 + 1500 * 997.5\n",
    "\n",
    "# the units of material are kg/m^2\n",
    "print(material)"
   ]
  },
  {
   "cell_type": "code",
   "execution_count": 8,
   "id": "2f3c6292",
   "metadata": {},
   "outputs": [],
   "source": [
    "# define Avogadro's constant [mol^-1]\n",
    "Na = 6.02214076 * 10**(23)"
   ]
  },
  {
   "cell_type": "code",
   "execution_count": 15,
   "id": "6bec8bb1",
   "metadata": {},
   "outputs": [
    {
     "ename": "SyntaxError",
     "evalue": "invalid syntax (4071919507.py, line 12)",
     "output_type": "error",
     "traceback": [
      "\u001b[1;36m  Cell \u001b[1;32mIn[15], line 12\u001b[1;36m\u001b[0m\n\u001b[1;33m    sigma = ???\u001b[0m\n\u001b[1;37m            ^\u001b[0m\n\u001b[1;31mSyntaxError\u001b[0m\u001b[1;31m:\u001b[0m invalid syntax\n"
     ]
    }
   ],
   "source": [
    "# find Veff with the above defined formula\n",
    "Veff = detector_effective_volume(Nrec, Ngen, Vgen)\n",
    "\n",
    "# define the density of water at a depth of 1500 m [g/cm^3]\n",
    "density = 0.998\n",
    "# get the molar mass of water [g/mol]\n",
    "molar_mass = 18.01528 \n",
    "# the matter density is then [mol/cm^3]\n",
    "rho = density / molar_mass\n",
    "\n",
    "# http://cupp.oulu.fi/neutrino/nd-cross.html\n",
    "sigma = ???"
   ]
  },
  {
   "cell_type": "markdown",
   "id": "06922c32",
   "metadata": {},
   "source": [
    "Lastly, to find the *Number of Detectable Events* ($N_s$) we can use the following formula:\n",
    "\n",
    "$$N_s = \\int \\int A_{eff}^{\\nu}(E_{\\nu}, \\theta_{\\nu}) \\frac{d\\phi_{\\nu}}{dE_{\\nu}d\\theta_{\\nu}} dE_{\\nu}d\\theta_{\\nu}$$\n",
    "\n",
    "**Parameters:**\n",
    "* $N_s$ = number of detectable events\n",
    "* $A_{eff}^{\\nu}(E_{\\nu}, \\theta_{\\nu})$ = neutrino effective area calculated above\n",
    "* $\\frac{d\\phi_{\\nu}}{dE_{\\nu}d\\theta_{\\nu}}$ = predicted astrophysical flux "
   ]
  },
  {
   "cell_type": "markdown",
   "id": "0c74d35d",
   "metadata": {},
   "source": [
    "First we need a function for the predicted astrophysical flux. This we can find in the following source where they approximatethe flux to be:\n",
    "\n",
    "$$(\\frac{d\\phi_{\\nu}}{dE_{\\nu}})_{limit} = \\frac{1 - 4 \\times 10^{-8}}{E_{\\nu}^2} GeV cm^{-2} s^{-1} sr^{-1}$$\n",
    "\n",
    "We also know:\n",
    "\n",
    "$$ \\frac{d\\phi_{\\nu}}{dE_{\\nu}d\\theta_{\\nu}} = \\frac{d\\phi_{\\nu}}{dE_{\\nu}} * \\frac{1}{\\Omega} $$\n",
    "\n",
    "https://iopscience.iop.org/article/10.1086/340281/pdf"
   ]
  },
  {
   "cell_type": "code",
   "execution_count": 7,
   "id": "46467a46",
   "metadata": {},
   "outputs": [],
   "source": [
    "def predicted_astrophysical_flux(E, solid_angle):\n",
    "    # (dphi)/(dE dtheta)\n",
    "    dphi_dEdtheta = (4 * 10**(-8) / E**2) * (1 / solid_angle) \n",
    "    return dphi_dEdtheta"
   ]
  },
  {
   "cell_type": "code",
   "execution_count": null,
   "id": "a8a8ecb7",
   "metadata": {},
   "outputs": [],
   "source": [
    "# calculate the solid angle of the detector\n",
    "solid_angle = ???"
   ]
  },
  {
   "cell_type": "code",
   "execution_count": 8,
   "id": "5937b543",
   "metadata": {},
   "outputs": [
    {
     "ename": "SyntaxError",
     "evalue": "invalid syntax (1283706790.py, line 17)",
     "output_type": "error",
     "traceback": [
      "\u001b[1;36m  Cell \u001b[1;32mIn[8], line 17\u001b[1;36m\u001b[0m\n\u001b[1;33m    theta_nu_min = ???\u001b[0m\n\u001b[1;37m                   ^\u001b[0m\n\u001b[1;31mSyntaxError\u001b[0m\u001b[1;31m:\u001b[0m invalid syntax\n"
     ]
    }
   ],
   "source": [
    "def number_of_detectable_events(Nrec, Ngen, Vgen, rho, Na, sigma, Pearth, E, solid_angle):\n",
    "    \n",
    "    # define the function to be integrated\n",
    "    def integrand(Nrec, Ngen, Vgen, rho, Na, sigma, Pearth, E, solid_angle):\n",
    "        \n",
    "        # define the neutrino effective area\n",
    "        Aeff = neutrino_effective_area(Nrec, Ngen, Vgen, rho, Na, sigma, Pearth)\n",
    "        \n",
    "        # define the neutrino effective area\n",
    "        astrophysical_flux = predicted_astrophysical_flux(E, solid_angle)\n",
    "        \n",
    "        return Aeff * astrophysical_flux\n",
    "\n",
    "    # Define the limits of integration for E_nu and theta_nu\n",
    "    E_nu_min = 10**(16)  \n",
    "    E_nu_max = 10**(21)\n",
    "    theta_nu_min = ???\n",
    "    theta_nu_max = ???\n",
    "\n",
    "    # Calculate the integral\n",
    "    result, _ = dblquad(integrand, theta_nu_min, theta_nu_max, lambda _: E_nu_min, lambda _: E_nu_max)\n",
    "\n",
    "    return result"
   ]
  },
  {
   "cell_type": "markdown",
   "id": "1ee1be94",
   "metadata": {},
   "source": [
    "## Things to find out\n",
    "\n",
    "#### Parameters\n",
    "* Nrec \n",
    "* Ngen \n",
    "* Vgen \n",
    "* L\n",
    "* rho_earth\n",
    "* sigma\n",
    "* solid_angle"
   ]
  },
  {
   "cell_type": "code",
   "execution_count": null,
   "id": "9b62a653",
   "metadata": {},
   "outputs": [],
   "source": []
  },
  {
   "cell_type": "code",
   "execution_count": null,
   "id": "0cb5b338",
   "metadata": {},
   "outputs": [],
   "source": []
  },
  {
   "cell_type": "code",
   "execution_count": null,
   "id": "c93aea41",
   "metadata": {},
   "outputs": [],
   "source": []
  },
  {
   "cell_type": "code",
   "execution_count": null,
   "id": "31696da3",
   "metadata": {},
   "outputs": [],
   "source": []
  },
  {
   "cell_type": "code",
   "execution_count": null,
   "id": "f7f0ab08",
   "metadata": {},
   "outputs": [],
   "source": []
  }
 ],
 "metadata": {
  "kernelspec": {
   "display_name": "Python 3 (ipykernel)",
   "language": "python",
   "name": "python3"
  },
  "language_info": {
   "codemirror_mode": {
    "name": "ipython",
    "version": 3
   },
   "file_extension": ".py",
   "mimetype": "text/x-python",
   "name": "python",
   "nbconvert_exporter": "python",
   "pygments_lexer": "ipython3",
   "version": "3.11.4"
  }
 },
 "nbformat": 4,
 "nbformat_minor": 5
}
