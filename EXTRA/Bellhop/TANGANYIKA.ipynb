{
 "cells": [
  {
   "cell_type": "markdown",
   "metadata": {},
   "source": [
    "# Neutrino underwater acoustic propagation modeling at Tanganyika"
   ]
  },
  {
   "cell_type": "code",
   "execution_count": null,
   "metadata": {},
   "outputs": [],
   "source": [
    "# Author : Lene van Rootselaar\n",
    "from math import *\n",
    "import math\n",
    "import matplotlib.pyplot as plt\n",
    "import arlpy.uwapm as pm\n",
    "import numpy as np"
   ]
  },
  {
   "cell_type": "markdown",
   "metadata": {},
   "source": [
    "## Bellhop - Acoustic Toolbox"
   ]
  },
  {
   "cell_type": "markdown",
   "metadata": {},
   "source": [
    "- **BELLHOP** reads these files depending on options selected within the main environmental file.\n",
    "\n",
    "- i.e. Below is the example of the environmental file(*.env file).\n",
    "    "
   ]
  },
  {
   "cell_type": "markdown",
   "metadata": {},
   "source": [
    "- There are various options for which you can run bellhop are: **(That can be found in the *.env file as RUN TYPE)**\n",
    "    - ray tracing option (R),\n",
    "    - eigenray option (E),\n",
    "    - transmission loss option ,\n",
    "        - Coherent TL calculations (C)\n",
    "        - Incoherent TL calculations (I)\n",
    "        - Semi-coherent TL calculations (S)\n",
    "    - an arrivals calculation option in ascii (A) ; an arrivals calculation option in binary (a)"
   ]
  },
  {
   "cell_type": "markdown",
   "metadata": {},
   "source": [
    "# Sound Speed Profile of Tanganyika "
   ]
  },
  {
   "cell_type": "code",
   "execution_count": null,
   "metadata": {},
   "outputs": [],
   "source": [
    "pip freeze"
   ]
  },
  {
   "cell_type": "code",
   "execution_count": null,
   "metadata": {},
   "outputs": [],
   "source": [
    "neutrino_energy = 1e10\n",
    "\n",
    "def sound_level_Neutrino():\n",
    "    \"\"\"\n",
    "    Generates the sound level (SL) distribution over angle for a neutrino\n",
    "    \"\"\"\n",
    "    ###########################################################################################################################\n",
    "    # set up the conditions to calculate sound level for the sperm whale and neutrino \n",
    "    ###########################################################################################################################        \n",
    "    # angle w.r.t. axis of click [rad]\n",
    "    thetas = np.linspace(-90, 90, 360)\n",
    "    SL_thetas = []\n",
    "\n",
    "    ###########################################################################################################################\n",
    "    # Calculate the sound level for the neutrino in a similar manner\n",
    "    ########################################################################################################################### \n",
    "    \n",
    "    # Generate an array of frequencies from 5000 to 50000\n",
    "    f_arr = np.linspace(500, 25000, 100) # 500 - 25000\n",
    "    #f_arr = freqs[1:]\n",
    "    #f_arr = np.linspace(freqs[1], freqs[len(freqs) - 1], 100)\n",
    "    I_theta = np.zeros(len(thetas))\n",
    "\n",
    "    # Loop over the frequencies and calculate the intensity of the neutrino at different angles\n",
    "    for freq in f_arr:\n",
    "        I_theta += np.asarray(list(map(correct_offaxis_neutrino, np.radians(thetas), [freq]*len(thetas))))\n",
    "\n",
    "    # calculate the average intensity of the signal over different frequencies\n",
    "    I_theta_mean = np.asarray(I_theta) / len(f_arr)\n",
    "    \n",
    "    # get the sound level relative to the original neutrino sound in log scale\n",
    "    SL_thetas = [10*math.log10(x) for x in I_theta_mean]\n",
    "    \n",
    "    # from all the values in the list substract the maximum values such that all identities are negative and 0 is the maximum\n",
    "    SL_thetas -= np.max(SL_thetas)      \n",
    "    \n",
    "    return SL_thetas, I_theta\n",
    "\n",
    "def correct_offaxis_neutrino(theta, freq):\n",
    "    # distance from the source to the detector, assumed to be 1 unit\n",
    "    d = 2\n",
    "    \n",
    "    c_s = 1497\n",
    "    \n",
    "    # wavelength of the underwater signal which is speed of sound divided by the frequency\n",
    "    wl = c_s/freq\n",
    "    \n",
    "    # initial intensity of the signal (assumed to be 1 unit)\n",
    "    I_0 = 1\n",
    "    \n",
    "    # below the formula to find the intensity of a signal under different angles is used\n",
    "    if theta == 0:\n",
    "        return I_0\n",
    "    else:\n",
    "        return I_0 * pow(np.sin((np.pi*d/wl)*np.sin(theta))/((np.pi*d/wl)*np.sin(theta)), 2)\n",
    "\n",
    "SL_Neutrino, I_theta = sound_level_Neutrino()\n",
    "\n",
    "thetas = np.linspace(-90, 90, 360)\n",
    "\n",
    "SL_Neutrino_normalised = (SL_Neutrino - min(SL_Neutrino)) / (max(SL_Neutrino - min(SL_Neutrino)))\n",
    "\n",
    "# plot the absolute graph\n",
    "plt.figure(figsize=(13, 10))\n",
    "plt.title(f'SL Neutrino ({neutrino_energy:.1e} GeV)')\n",
    "\n",
    "plt.plot(thetas, SL_Neutrino, '-', label = 'Neutrino (500-25000)', color= 'dodgerblue')\n",
    "#plt.plot(thetas, SL_Neutrino_sharp, '-', label = 'Neutrino (freqs)', color= 'gold')\n",
    "plt.legend(loc=2)\n",
    "plt.xlabel(\"Angle relative to main beam [deg]\", ha ='right', x=1.0)\n",
    "plt.ylabel(\"Radiated level relative to main beam\",   ha ='right', position=(0,1))\n",
    "\n",
    "plt.show()\n",
    "plt.clf()\n",
    "\n",
    "# beam pattern\n",
    "beampattern = np.column_stack((thetas, SL_Neutrino*10))"
   ]
  },
  {
   "cell_type": "code",
   "execution_count": null,
   "metadata": {},
   "outputs": [],
   "source": [
    "import arlpy.plot as plt\n",
    "\n",
    "env = pm.create_env2d()\n",
    "\n",
    "ssp = [\n",
    "    [   0, 1503.89725749], \n",
    "    [   5, 1503.53512228],\n",
    "    [  27, 1503.40633872],\n",
    "    [  45, 1501.17598527],\n",
    "    [  63, 1497.95739375],\n",
    "    [  91, 1496.57667752],\n",
    "    [ 120, 1496.18094787],\n",
    "    [ 144, 1496.13991023],\n",
    "    [ 168, 1496.23668012],\n",
    "    [ 187, 1496.33233254],\n",
    "    [ 216, 1496.82067334],\n",
    "    [ 250, 1497.30878916],\n",
    "    [ 300, 1497.98142059],\n",
    "    [ 350, 1498.79460352],\n",
    "    [ 400, 1499.46622159], \n",
    "    [ 450, 1500.36382161],\n",
    "    [ 625, 1503.19287932],\n",
    "    [ 721, 1504.83479986], \n",
    "    [ 818, 1506.35078556],\n",
    "    [ 867, 1507.14541936],\n",
    "    [1500, 1517.77346984]]   \n",
    "\n",
    "constant_ssp = [\n",
    "    [   0, 1500], \n",
    "    [   5, 1500],\n",
    "    [  27, 1500],\n",
    "    [  45, 1500],\n",
    "    [  63, 1500],\n",
    "    [  91, 1500],\n",
    "    [ 120, 1500],\n",
    "    [ 144, 1500],\n",
    "    [ 168, 1500],\n",
    "    [ 187, 1500],\n",
    "    [ 216, 1500],\n",
    "    [ 250, 1500],\n",
    "    [ 300, 1500],\n",
    "    [ 350, 1500],\n",
    "    [ 400, 1500], \n",
    "    [ 450, 1500],\n",
    "    [ 625, 1500],\n",
    "    [ 721, 1500], \n",
    "    [ 818, 1500],\n",
    "    [ 867, 1500],\n",
    "    [ 900, 1500],\n",
    "    [ 950, 1500],    \n",
    "    [1000, 1500],\n",
    "    [1050, 1500],\n",
    "    [1100, 1500],\n",
    "    [1150, 1500],\n",
    "    [1200, 1500],\n",
    "    [1250, 1500],\n",
    "    [1300, 1500],\n",
    "    [1350, 1500],\n",
    "    [1400, 1500],\n",
    "    [1450, 1500],\n",
    "    [1500, 1500]]   \n",
    "\n",
    "# Create the 2D environment with a pancake opening angle of 5 degrees\n",
    "#env = pm.create_env2d(frequency=10000, min_angle=-5, max_angle=5, depth=1500, tx_depth=[750, 753, 756, 759, 762, 765], rx_depth=[1425, 1350, 1275, 1200, 1125, 1050, 975, 900, 825, 750, 675, 600, 525], rx_range=48000, soundspeed=ssp)\n",
    "env = pm.create_env2d(frequency=10000, min_angle=-5, max_angle=5, depth=1500, tx_depth=900, tx_directionality=beampattern, rx_depth=[525, 1425, 1350, 1275, 1200, 1125, 1050, 975, 900, 825, 750, 675, 600], rx_range=70000, soundspeed=ssp)\n",
    "constant_env = pm.create_env2d(frequency=10000, min_angle=-5, max_angle=5, depth=1500, tx_depth=900, rx_depth=[525, 1425, 1350, 1275, 1200, 1125, 1050, 975, 900, 825, 750, 675, 600], rx_range=70000, soundspeed=ssp)\n",
    "\n",
    "# Plot the sound speed profile\n",
    "pm.plot_ssp(env, width=500)\n",
    "pm.plot_ssp(constant_env, width=500)\n",
    "\n",
    "pm.print_env(env)"
   ]
  },
  {
   "cell_type": "code",
   "execution_count": null,
   "metadata": {},
   "outputs": [],
   "source": [
    "pm.models()"
   ]
  },
  {
   "cell_type": "markdown",
   "metadata": {},
   "source": [
    "# Plotting an Environment"
   ]
  },
  {
   "cell_type": "code",
   "execution_count": null,
   "metadata": {},
   "outputs": [],
   "source": [
    "# Plotting an Environment using ARLPY\n",
    "pm.plot_env(env, surface_color='dodgerblue', bottom_color='peru', rx_color='blue', rx_plot=None, width=900)"
   ]
  },
  {
   "cell_type": "markdown",
   "metadata": {},
   "source": [
    "# Eigenrays"
   ]
  },
  {
   "cell_type": "markdown",
   "metadata": {},
   "source": [
    "- **Eigenray** plots show just the rays that connect the source to a receiver."
   ]
  },
  {
   "cell_type": "code",
   "execution_count": null,
   "metadata": {},
   "outputs": [],
   "source": [
    "# Eigenrays using ARLPY\n",
    "rays = pm.compute_eigenrays(env)\n",
    "print(rays)\n",
    "pm.plot_rays(rays, env=env, width=900)"
   ]
  },
  {
   "cell_type": "code",
   "execution_count": null,
   "metadata": {},
   "outputs": [],
   "source": [
    "rays = pm.compute_rays(env)\n",
    "constant_rays = pm.compute_rays(constant_env)\n",
    "\n",
    "pm.plot_rays(rays, env=env, width=900)\n",
    "pm.plot_rays(constant_rays, env=constant_env, width=900)"
   ]
  },
  {
   "cell_type": "code",
   "execution_count": null,
   "metadata": {},
   "outputs": [],
   "source": [
    "depth = [100, 200, 300, 400, 500, 600, 700, 800, 900, 1000, 1100, 1200, 1300]\n",
    "\n",
    "\n",
    "for i in range(0, len(depth)):\n",
    "    tx = depth[i]\n",
    "    env = pm.create_env2d(frequency=10000, min_angle=-5, max_angle=5, depth=1500, tx_depth=tx, rx_depth=[525, 1425, 1350, 1275, 1200, 1125, 1050, 975, 900, 825, 750, 675, 600], rx_range=48000, soundspeed=ssp)\n",
    "    rays = pm.compute_rays(env)\n",
    "    pm.plot_rays(rays, env=env, width=900)\n",
    "    arrivals = pm.compute_arrivals(env)\n",
    "    pm.plot_arrivals(arrivals, width=900)"
   ]
  },
  {
   "cell_type": "code",
   "execution_count": null,
   "metadata": {},
   "outputs": [],
   "source": [
    "env = pm.create_env2d(frequency=10000, min_angle=-5, max_angle=5, depth=1500, tx_depth=150, rx_depth=[525, 1425, 1350, 1275, 1200, 1125, 1050, 975, 900, 825, 750, 675, 600], rx_range=48000, soundspeed=ssp)\n",
    "\n",
    "# compute the arrival structure at the receiver\n",
    "arrivals = pm.compute_arrivals(env)\n",
    "pm.plot_arrivals(arrivals, width=900)"
   ]
  },
  {
   "cell_type": "code",
   "execution_count": null,
   "metadata": {},
   "outputs": [],
   "source": [
    "# convert to a impulse response time series\n",
    "ir = pm.arrivals_to_impulse_response(arrivals, fs=96000)\n",
    "plt.plot(np.abs(ir), fs=96000, width=900)"
   ]
  },
  {
   "cell_type": "markdown",
   "metadata": {},
   "source": [
    "If you want the received signal strength (RSS) to be in the same units as the original signal strength, in this case, millipascal (mPa), you would need to convert the dB result back to the linear scale of the original units. The formula for this conversion is:\n",
    "\n",
    "$$ RSS \\: [mPa] = 10^{(\\frac{RSS \\: [dB]}{20})} $$"
   ]
  },
  {
   "cell_type": "code",
   "execution_count": null,
   "metadata": {},
   "outputs": [],
   "source": [
    "# We can see in the plots below that the signal strength reduces with about -120 dB\n",
    "RSS = 10**(-140 / 20)\n",
    "\n",
    "print(RSS)\n",
    "\n",
    "minimum_value = (1 / RSS) * 5\n",
    "print(f\"for a neutrino being created 48 kilometers away, the minimum energy detectable can be {minimum_value} mPa.\")\n",
    "\n",
    "\n",
    "\n",
    "#signal of 10**4 mPa, how far?\n",
    "original_energy = 10**3\n",
    "\n",
    "minimum_value = 5 \n",
    "RSS = minimum_value / original_energy\n",
    "print(RSS)\n",
    "\n",
    "reduce = np.log(RSS) * 20\n",
    "\n",
    "print(reduce)\n",
    "\n",
    "\n",
    "\n"
   ]
  },
  {
   "cell_type": "code",
   "execution_count": null,
   "metadata": {},
   "outputs": [],
   "source": [
    "env['rx_range'] = np.linspace(0, 35000, 1001)\n",
    "env['rx_depth'] = np.linspace(0, 1500, 1001)"
   ]
  },
  {
   "cell_type": "code",
   "execution_count": null,
   "metadata": {},
   "outputs": [],
   "source": [
    "tloss = pm.compute_transmission_loss(env, mode='incoherent')\n",
    "\n",
    "pm.plot_transmission_loss(tloss, env=env, clim=[-100,-40])"
   ]
  },
  {
   "cell_type": "code",
   "execution_count": null,
   "metadata": {},
   "outputs": [],
   "source": [
    "constant_tloss = pm.compute_transmission_loss(constant_env, mode='incoherent')\n",
    "\n",
    "pm.plot_transmission_loss(constant_tloss, env=constant_env, clim=[-100,-10])"
   ]
  },
  {
   "cell_type": "code",
   "execution_count": null,
   "metadata": {},
   "outputs": [],
   "source": [
    "pm.plot_transmission_loss(constant_tloss, env=constant_env, clim=[-100,-10])"
   ]
  },
  {
   "cell_type": "code",
   "execution_count": null,
   "metadata": {},
   "outputs": [],
   "source": [
    "constant_tloss = pm.compute_transmission_loss(constant_env, mode='coherent')\n",
    "\n",
    "pm.plot_transmission_loss(constant_tloss, env=constant_env, clim=[-100,-10])"
   ]
  },
  {
   "cell_type": "code",
   "execution_count": null,
   "metadata": {},
   "outputs": [],
   "source": [
    "constant_env = pm.create_env2d(frequency=10000, min_angle=-89, max_angle=89, depth=1500, tx_depth=900, rx_depth=[525, 1425, 1350, 1275, 1200, 1125, 1050, 975, 900, 825, 750, 675, 600], rx_range=70000, soundspeed=ssp)\n",
    "constant_env['rx_range'] = np.linspace(0, 35000, 1001)\n",
    "constant_env['rx_depth'] = np.linspace(0, 1500, 1001)\n",
    "\n",
    "constant_tloss_tx = pm.compute_transmission_loss(constant_env, mode='incoherent')\n",
    "\n",
    "pm.plot_transmission_loss(constant_tloss_tx, env=constant_env, clim=[-100,-10], width=900)"
   ]
  },
  {
   "cell_type": "code",
   "execution_count": null,
   "metadata": {},
   "outputs": [],
   "source": [
    "env = pm.create_env2d(frequency=10000, min_angle=-89, max_angle=89, depth=1500, tx_depth=900, tx_directionality=beampattern, rx_depth=[525, 1425, 1350, 1275, 1200, 1125, 1050, 975, 900, 825, 750, 675, 600], rx_range=70000, soundspeed=ssp)\n",
    "env['rx_range'] = np.linspace(0, 35000, 1001)\n",
    "env['rx_depth'] = np.linspace(0, 1500, 1001)\n",
    "\n",
    "tloss_tx = pm.compute_transmission_loss(env, mode='incoherent')\n",
    "\n",
    "pm.plot_transmission_loss(tloss_tx, env=env, clim=[-100,-10], width=900)"
   ]
  },
  {
   "cell_type": "code",
   "execution_count": null,
   "metadata": {},
   "outputs": [],
   "source": [
    "pm.plot_transmission_loss(constant_tloss_tx, env=constant_env, clim=[-150,-10], width=900)\n",
    "pm.plot_transmission_loss(tloss_tx, env=env, clim=[-150,-10], width=900)"
   ]
  },
  {
   "cell_type": "code",
   "execution_count": null,
   "metadata": {},
   "outputs": [],
   "source": [
    "pm.plot_transmission_loss(tloss, env=env, clim=[-130,-10], width=900)\n",
    "pm.plot_transmission_loss(constant_tloss, env=constant_env, clim=[-130,-10], width=900)"
   ]
  },
  {
   "cell_type": "code",
   "execution_count": null,
   "metadata": {},
   "outputs": [],
   "source": [
    "pm.plot_transmission_loss(tloss2, env=env, clim=[-150,-1], width=900)"
   ]
  },
  {
   "cell_type": "markdown",
   "metadata": {},
   "source": [
    "# Bathymetry"
   ]
  },
  {
   "cell_type": "markdown",
   "metadata": {},
   "source": [
    "Let's first start off by defining our bathymetry, a steep up-slope for the first 300 m, and then a gentle downslope:"
   ]
  },
  {
   "cell_type": "code",
   "execution_count": null,
   "metadata": {},
   "outputs": [],
   "source": [
    "# add/change bathy to env\n",
    "bathy = [\n",
    "    [0, 30],    # 30 m water depth at the transmitter\n",
    "    [300, 20],  # 20 m water depth 300 m away\n",
    "    [1000, 25]  # 25 m water depth at 1 km\n",
    "]\n",
    "\n",
    "# add/change SSP to env\n",
    "ssp = [\n",
    "    [ 0, 1540],  # 1540 m/s at the surface\n",
    "    [10, 1530],  # 1530 m/s at 10 m depth\n",
    "    [20, 1532],  # 1532 m/s at 20 m depth\n",
    "    [25, 1533],  # 1533 m/s at 25 m depth\n",
    "    [30, 1535]   # 1535 m/s at the seabed\n",
    "]\n",
    "\n",
    "# Appending ssp and bathy to existing env file\n",
    "env = pm.create_env2d(\n",
    "    depth=bathy,\n",
    "    soundspeed=ssp,\n",
    "    bottom_soundspeed=1450,\n",
    "    bottom_density=1200,\n",
    "    bottom_absorption=1.0,\n",
    "    tx_depth=15\n",
    ")\n",
    "pm.print_env(env)"
   ]
  },
  {
   "cell_type": "code",
   "execution_count": null,
   "metadata": {},
   "outputs": [],
   "source": [
    "pm.plot_env(env, width=900)"
   ]
  },
  {
   "cell_type": "markdown",
   "metadata": {},
   "source": [
    "Looks more interesting! Let's see what the eigenrays look like, and also the arrival structure:"
   ]
  },
  {
   "cell_type": "code",
   "execution_count": null,
   "metadata": {},
   "outputs": [],
   "source": [
    "rays = pm.compute_eigenrays(env)\n",
    "pm.plot_rays(rays, env=env, width=900)"
   ]
  },
  {
   "cell_type": "markdown",
   "metadata": {},
   "source": [
    "We could also ignore the receiver, and plot rays launched at various angles:"
   ]
  },
  {
   "cell_type": "code",
   "execution_count": null,
   "metadata": {},
   "outputs": [],
   "source": [
    "rays = pm.compute_rays(env)\n",
    "pm.plot_rays(rays, env=env, width=900)"
   ]
  },
  {
   "cell_type": "markdown",
   "metadata": {},
   "source": [
    "# Source directionality"
   ]
  },
  {
   "cell_type": "markdown",
   "metadata": {},
   "source": [
    "Now, let's use a directional transmitter instead of an omni-directional one:"
   ]
  },
  {
   "cell_type": "code",
   "execution_count": null,
   "metadata": {},
   "outputs": [],
   "source": [
    "beampattern = np.array([\n",
    "    [-180,  10], [-170, -10], [-160,   0], [-150, -20], [-140, -10], [-130, -30],\n",
    "    [-120, -20], [-110, -40], [-100, -30], [-90 , -50], [-80 , -30], [-70 , -40],\n",
    "    [-60 , -20], [-50 , -30], [-40 , -10], [-30 , -20], [-20 ,   0], [-10 , -10],\n",
    "    [  0 ,  10], [ 10 , -10], [ 20 ,   0], [ 30 , -20], [ 40 , -10], [ 50 , -30],\n",
    "    [ 60 , -20], [ 70 , -40], [ 80 , -30], [ 90 , -50], [100 , -30], [110 , -40],\n",
    "    [120 , -20], [130 , -30], [140 , -10], [150 , -20], [160 ,   0], [170 , -10],\n",
    "    [180 ,  10]\n",
    "])\n",
    "env['tx_directionality'] = beampattern"
   ]
  },
  {
   "cell_type": "code",
   "execution_count": null,
   "metadata": {},
   "outputs": [],
   "source": [
    "tloss = pm.compute_transmission_loss(env)\n",
    "pm.plot_transmission_loss(tloss, env=env, clim=[-60,-30], width=900)"
   ]
  },
  {
   "cell_type": "markdown",
   "metadata": {},
   "source": [
    "Now you can see the directionality and the sidelobe structure of the transmitter."
   ]
  },
  {
   "cell_type": "code",
   "execution_count": null,
   "metadata": {},
   "outputs": [],
   "source": [
    "tloss = pm.compute_transmission_loss(env, mode='incoherent')\n",
    "pm.plot_transmission_loss(tloss, env=env, clim=[-60,-30], width=900)"
   ]
  },
  {
   "cell_type": "markdown",
   "metadata": {},
   "source": [
    "# Reference\n",
    "\n",
    "1. **M. Chitre 2021, “ARLPY python toolbox”** , https://github.com/org-arl/arlpy \n",
    "  \n",
    "2. **Ocean Acoustics Library.**https://oalib-acoustics.org/, Retrieved July 11, 2021.   "
   ]
  }
 ],
 "metadata": {
  "kernelspec": {
   "display_name": "Python 3 (ipykernel)",
   "language": "python",
   "name": "python3"
  },
  "language_info": {
   "codemirror_mode": {
    "name": "ipython",
    "version": 3
   },
   "file_extension": ".py",
   "mimetype": "text/x-python",
   "name": "python",
   "nbconvert_exporter": "python",
   "pygments_lexer": "ipython3",
   "version": "3.10.12"
  },
  "latex_envs": {
   "LaTeX_envs_menu_present": true,
   "autoclose": false,
   "autocomplete": true,
   "bibliofile": "biblio.bib",
   "cite_by": "apalike",
   "current_citInitial": 1,
   "eqLabelWithNumbers": true,
   "eqNumInitial": 1,
   "hotkeys": {
    "equation": "Ctrl-E",
    "itemize": "Ctrl-I"
   },
   "labels_anchors": false,
   "latex_user_defs": false,
   "report_style_numbering": false,
   "user_envs_cfg": false
  }
 },
 "nbformat": 4,
 "nbformat_minor": 4
}
