{
 "cells": [
  {
   "cell_type": "markdown",
   "metadata": {},
   "source": [
    "# How to use an underwater acoustic propagation modeling with arlpy and Bellhop ?"
   ]
  },
  {
   "cell_type": "code",
   "execution_count": null,
   "metadata": {},
   "outputs": [],
   "source": [
    "# Author : Jay Patel, Dalhousie University."
   ]
  },
  {
   "cell_type": "markdown",
   "metadata": {},
   "source": [
    "The underwater acoustic propagation modeling toolbox (`uwapm`) in `arlpy` is integrated with the popular Bellhop ray tracer distributed as part of the [acoustics toolbox](https://oalib-acoustics.org/). In this notebook, we see how to use `arlpy.uwapm` to simplify the use of Bellhop for modeling.\n",
    "\n",
    "- ## Prerequisites\n",
    "\n",
    "    - Install [arlpy](https://pypi.org/project/arlpy/) (v1.6 or higher)\n",
    "\n",
    "    You can install arlpy (in overall system) by typing this in your command prompt:\n",
    "    ```bash\n",
    "    python3 -m pip install arlpy\n",
    "    ```\n",
    "    - Install the [acoustics toolbox](https://oalib-acoustics.org/) (6 July 2020 version or later)\n",
    "\n",
    "    You can use [this installation instructions](https://github.com/patel999jay/Bellhop-ARLPY-ECED6575) to install acoustics toolbox in overall system."
   ]
  },
  {
   "cell_type": "markdown",
   "metadata": {},
   "source": [
    "## Bellhop - Acoustic Toolbox"
   ]
  },
  {
   "cell_type": "markdown",
   "metadata": {},
   "source": [
    "**What is BELLHOP ?**"
   ]
  },
  {
   "cell_type": "markdown",
   "metadata": {},
   "source": [
    "- **BELLHOP** is a beam tracing model for predicting acoustic pressure fields in ocean environments.\n",
    "- **BELLHOP** can produce a variety of useful outputs including transmission loss, eigenrays, arrivals, and received time-series. It also allows for range-dependence in the top and bottom boundaries (altimetry and bathymetry), as well as in the sound speed profile (SSP).\n",
    "- **BELLHOP** is implemented in Fortran, Matlab, and Python and used on multiple platforms (Mac, Windows, and Linux)."
   ]
  },
  {
   "cell_type": "markdown",
   "metadata": {},
   "source": [
    "![Bellhop_Structure](bellhop_structure.png \"Bellhop_Structure\")"
   ]
  },
  {
   "cell_type": "markdown",
   "metadata": {},
   "source": [
    "<h3><center> Figure 1: BELLHOP structure </center></h3>"
   ]
  },
  {
   "cell_type": "markdown",
   "metadata": {},
   "source": [
    "# WHY BELLHOP?"
   ]
  },
  {
   "cell_type": "markdown",
   "metadata": {},
   "source": [
    "- Underwater communication channel is a relatively difficult transmission medium due to the variability of link quality depending on location and applications. \n",
    "- Before deploying any kind of vehicles underwater, one should predict the underwater communication system performance which is based on the sound frequency transmitted underwater. \n",
    "\n",
    "**Why do you need to analyze the uw-comms performance?** \n",
    "\n",
    "- To analyze impact of channel characteristics on underwater communications,\n",
    "- prior to deploying robots, predict communication system performance,\n",
    "- provide guidance on best physical layout to deploy underwater vehicles,\n",
    "- provide estimates on parameters for link budget calculation,\n",
    "\n",
    "- **Because** it will provide you a rough idea about **how far you can communicate within network** which is also known as an **operation range for communication**. "
   ]
  },
  {
   "cell_type": "markdown",
   "metadata": {},
   "source": [
    "- **BELLHOP** reads these files depending on options selected within the main environmental file.\n",
    "\n",
    "- i.e. Below is the example of the environmental file(*.env file).\n",
    "    "
   ]
  },
  {
   "cell_type": "markdown",
   "metadata": {},
   "source": [
    "- There are various options for which you can run bellhop are: **(That can be found in the *.env file as RUN TYPE)**\n",
    "    - ray tracing option (R),\n",
    "    - eigenray option (E),\n",
    "    - transmission loss option ,\n",
    "        - Coherent TL calculations (C)\n",
    "        - Incoherent TL calculations (I)\n",
    "        - Semi-coherent TL calculations (S)\n",
    "    - an arrivals calculation option in ascii (A) ; an arrivals calculation option in binary (a)"
   ]
  },
  {
   "cell_type": "markdown",
   "metadata": {},
   "source": [
    "# Sound Speed Profile of ANTARES"
   ]
  },
  {
   "cell_type": "markdown",
   "metadata": {},
   "source": [
    "<h3><center> Figure 2: Sound Speed Profile </center></h3>"
   ]
  },
  {
   "cell_type": "code",
   "execution_count": null,
   "metadata": {},
   "outputs": [],
   "source": [
    "pip freeze"
   ]
  },
  {
   "cell_type": "code",
   "execution_count": null,
   "metadata": {},
   "outputs": [],
   "source": [
    "import arlpy.uwapm as pm\n",
    "import arlpy.plot as plt\n",
    "import numpy as np\n",
    "\n",
    "env = pm.create_env2d()\n",
    "ssp = [\n",
    "    [   0, 1516.91274542], \n",
    "    [   1, 1516.91274542], \n",
    "    [  40, 1513.24625848], \n",
    "    [  50, 1510.8198138], \n",
    "    [ 100, 1506.71243224], \n",
    "    [ 200, 1508.06772055], \n",
    "    [ 600, 1514.23874969], \n",
    "    [ 800, 1517.31426587], \n",
    "    [1000, 1520.32601248], \n",
    "    [2000, 1536.36730689], \n",
    "    [2475, 1544.35065635]]\n",
    "\n",
    "\n",
    "\n",
    "surface_depth = np.column_stack((np.arange(48002), np.full(48002, 2475)))\n",
    "\n",
    "# Create the 2D environment\n",
    "env = pm.create_env2d(frequency=10000, min_angle=-5, max_angle=5, depth=2475, tx_depth=[1510, 1513, 1516, 1519, 1522, 1525], rx_depth=[2425, 2350, 2275, 2200, 2125, 2050, 1975, 1900, 1825, 1750, 1675, 1600, 1525], rx_range=48000, soundspeed=ssp)\n",
    "env10 = pm.create_env2d(frequency=10000, min_angle=5, max_angle=15, depth=2475, tx_depth=[1510, 1513, 1516, 1519, 1522, 1525], rx_depth=[2425, 2350, 2275, 2200, 2125, 2050, 1975, 1900, 1825, 1750, 1675, 1600, 1525], rx_range=48000, soundspeed=ssp)\n",
    "env20 = pm.create_env2d(frequency=10000, min_angle=15, max_angle=25, depth=2475, tx_depth=[1510, 1513, 1516, 1519, 1522, 1525], rx_depth=[2425, 2350, 2275, 2200, 2125, 2050, 1975, 1900, 1825, 1750, 1675, 1600, 1525], rx_range=48000, soundspeed=ssp)\n",
    "env30 = pm.create_env2d(frequency=10000, min_angle=25, max_angle=35, depth=2475, tx_depth=[1510, 1513, 1516, 1519, 1522, 1525], rx_depth=[2425, 2350, 2275, 2200, 2125, 2050, 1975, 1900, 1825, 1750, 1675, 1600, 1525], rx_range=48000, soundspeed=ssp)\n",
    "env40 = pm.create_env2d(frequency=10000, min_angle=35, max_angle=45, depth=2475, tx_depth=[1510, 1513, 1516, 1519, 1522, 1525], rx_depth=[2425, 2350, 2275, 2200, 2125, 2050, 1975, 1900, 1825, 1750, 1675, 1600, 1525], rx_range=48000, soundspeed=ssp)\n",
    "env50 = pm.create_env2d(frequency=10000, min_angle=45, max_angle=55, depth=2475, tx_depth=[1510, 1513, 1516, 1519, 1522, 1525], rx_depth=[2425, 2350, 2275, 2200, 2125, 2050, 1975, 1900, 1825, 1750, 1675, 1600, 1525], rx_range=48000, soundspeed=ssp)\n",
    "\n",
    "# Plot the sound speed profile\n",
    "pm.plot_ssp(env, width=500)\n",
    "\n",
    "pm.print_env(env)\n",
    "pm.print_env(env10)"
   ]
  },
  {
   "cell_type": "code",
   "execution_count": null,
   "metadata": {},
   "outputs": [],
   "source": [
    "pm.models()"
   ]
  },
  {
   "cell_type": "markdown",
   "metadata": {},
   "source": [
    "# Plotting an Environment"
   ]
  },
  {
   "cell_type": "code",
   "execution_count": null,
   "metadata": {},
   "outputs": [],
   "source": [
    "# Plotting an Environment using ARLPY\n",
    "pm.plot_env(env, width=900) "
   ]
  },
  {
   "cell_type": "markdown",
   "metadata": {},
   "source": [
    "# Eigenrays"
   ]
  },
  {
   "cell_type": "markdown",
   "metadata": {},
   "source": [
    "- **Eigenray** plots show just the rays that connect the source to a receiver."
   ]
  },
  {
   "cell_type": "code",
   "execution_count": null,
   "metadata": {},
   "outputs": [],
   "source": [
    "# Eigenrays using ARLPY\n",
    "#rays = pm.compute_eigenrays(env)\n",
    "#pm.plot_rays(rays, env=env, width=900)"
   ]
  },
  {
   "cell_type": "code",
   "execution_count": null,
   "metadata": {},
   "outputs": [],
   "source": [
    "# Rays using ARLPY\n",
    "rays = pm.compute_rays(env)\n",
    "rays10 = pm.compute_rays(env10)\n",
    "rays20 = pm.compute_rays(env20)\n",
    "rays30 = pm.compute_rays(env30)\n",
    "rays40 = pm.compute_rays(env40)\n",
    "rays50 = pm.compute_rays(env50)"
   ]
  },
  {
   "cell_type": "code",
   "execution_count": null,
   "metadata": {},
   "outputs": [],
   "source": [
    "with plt.figure(title='Neutrino at 0 degrees', xlabel='Distance [km]', ylabel='Depth [m]', xlim=[-1, 49], ylim=[-2500, 500], width=900) as f:\n",
    "    pm.plot_rays(rays, env=env, width=900)\n",
    "    f.line([0, 0], [-1516, 500], line_color='orangered')"
   ]
  },
  {
   "cell_type": "code",
   "execution_count": null,
   "metadata": {},
   "outputs": [],
   "source": [
    "# Calculate the neutrino axis\n",
    "import math\n",
    "\n",
    "# Given horizontal distance\n",
    "y = 1516 \n",
    "\n",
    "# Angle in degrees\n",
    "angle_degrees = 10\n",
    "\n",
    "# Convert angle to radians (math functions usually take radians)\n",
    "angle_radians = math.radians(angle_degrees)\n",
    "\n",
    "# Calculate vertical distance\n",
    "x = y * math.tan(angle_radians)\n",
    "\n",
    "print(f\"For a horizontal distance of {x} units, the vertical distance is {y} units at a 50-degree angle.\")"
   ]
  },
  {
   "cell_type": "code",
   "execution_count": null,
   "metadata": {},
   "outputs": [],
   "source": [
    "with plt.figure(title='Neutrino at 10 degrees', xlabel='Distance [km]', ylabel='Depth [m]', xlim=[-1, 49], ylim=[-2500, 500], width=900) as f:\n",
    "    pm.plot_rays(rays10, env=env, width=900)\n",
    "    f.line([0, (x/1000)], [-1516, 500], line_color='orangered')"
   ]
  },
  {
   "cell_type": "code",
   "execution_count": null,
   "metadata": {},
   "outputs": [],
   "source": [
    "# Calculate the neutrino axis\n",
    "import math\n",
    "\n",
    "# Given horizontal distance\n",
    "y = 1516 \n",
    "\n",
    "# Angle in degrees\n",
    "angle_degrees = 20\n",
    "\n",
    "# Convert angle to radians (math functions usually take radians)\n",
    "angle_radians = math.radians(angle_degrees)\n",
    "\n",
    "# Calculate vertical distance\n",
    "x = y * math.tan(angle_radians)\n",
    "\n",
    "print(f\"For a horizontal distance of {x} units, the vertical distance is {y} units at a 50-degree angle.\")"
   ]
  },
  {
   "cell_type": "code",
   "execution_count": null,
   "metadata": {},
   "outputs": [],
   "source": [
    "with plt.figure(title='Neutrino at 20 degrees', xlabel='Distance [km]', ylabel='Depth [m]', xlim=[-1, 49], ylim=[-2500, 500], width=900) as f:\n",
    "    pm.plot_rays(rays20, env=env, width=900)\n",
    "    f.line([0, (x/1000)], [-1516, 500], line_color='orangered')"
   ]
  },
  {
   "cell_type": "code",
   "execution_count": null,
   "metadata": {},
   "outputs": [],
   "source": [
    "# Calculate the neutrino axis\n",
    "import math\n",
    "\n",
    "# Given horizontal distance\n",
    "y = 1516 \n",
    "\n",
    "# Angle in degrees\n",
    "angle_degrees = 30\n",
    "\n",
    "# Convert angle to radians (math functions usually take radians)\n",
    "angle_radians = math.radians(angle_degrees)\n",
    "\n",
    "# Calculate vertical distance\n",
    "x = y * math.tan(angle_radians)\n",
    "\n",
    "print(f\"For a horizontal distance of {x} units, the vertical distance is {y} units at a 50-degree angle.\")"
   ]
  },
  {
   "cell_type": "code",
   "execution_count": null,
   "metadata": {},
   "outputs": [],
   "source": [
    "with plt.figure(title='Neutrino at 30 degrees', xlabel='Distance [km]', ylabel='Depth [m]', xlim=[-1, 49], ylim=[-2500, 500], width=900) as f:\n",
    "    pm.plot_rays(rays30, env=env, width=900)\n",
    "    f.line([0, (x/1000)], [-1516, 500], line_color='orangered')"
   ]
  },
  {
   "cell_type": "code",
   "execution_count": null,
   "metadata": {},
   "outputs": [],
   "source": [
    "# Calculate the neutrino axis\n",
    "import math\n",
    "\n",
    "# Given horizontal distance\n",
    "y = 1516 \n",
    "\n",
    "# Angle in degrees\n",
    "angle_degrees = 40\n",
    "\n",
    "# Convert angle to radians (math functions usually take radians)\n",
    "angle_radians = math.radians(angle_degrees)\n",
    "\n",
    "# Calculate vertical distance\n",
    "x = y * math.tan(angle_radians)\n",
    "\n",
    "print(f\"For a horizontal distance of {x} units, the vertical distance is {y} units at a 50-degree angle.\")"
   ]
  },
  {
   "cell_type": "code",
   "execution_count": null,
   "metadata": {},
   "outputs": [],
   "source": [
    "with plt.figure(title='Neutrino at 40 degrees', xlabel='Distance [km]', ylabel='Depth [m]', xlim=[-1, 49], ylim=[-2500, 500], width=900) as f:\n",
    "    pm.plot_rays(rays40, env=env, width=900)\n",
    "    f.line([0, (x/1000)], [-1516, 500], line_color='orangered')"
   ]
  },
  {
   "cell_type": "code",
   "execution_count": null,
   "metadata": {},
   "outputs": [],
   "source": [
    "# Calculate the neutrino axis\n",
    "import math\n",
    "\n",
    "# Given horizontal distance\n",
    "y = 1516 \n",
    "\n",
    "# Angle in degrees\n",
    "angle_degrees = 50\n",
    "\n",
    "# Convert angle to radians (math functions usually take radians)\n",
    "angle_radians = math.radians(angle_degrees)\n",
    "\n",
    "# Calculate vertical distance\n",
    "x = y * math.tan(angle_radians)\n",
    "\n",
    "print(f\"For a horizontal distance of {x} units, the vertical distance is {y} units at a 50-degree angle.\")"
   ]
  },
  {
   "cell_type": "code",
   "execution_count": null,
   "metadata": {},
   "outputs": [],
   "source": [
    "with plt.figure(title='Neutrino at 50 degrees', xlabel='Distance [km]', ylabel='Depth [m]', xlim=[-1, 49], ylim=[-2500, 500], width=900) as f:\n",
    "    pm.plot_rays(rays50, env=env, width=900)\n",
    "    f.line([0, (x/1000)], [-1516, 500], line_color='orangered')"
   ]
  },
  {
   "cell_type": "code",
   "execution_count": null,
   "metadata": {},
   "outputs": [],
   "source": [
    "tloss = pm.compute_transmission_loss(env, mode='coherent')"
   ]
  },
  {
   "cell_type": "code",
   "execution_count": null,
   "metadata": {},
   "outputs": [],
   "source": [
    "pm.plot_transmission_loss(tloss, env=env, clim=[-160,-40], width=900)"
   ]
  },
  {
   "cell_type": "code",
   "execution_count": null,
   "metadata": {},
   "outputs": [],
   "source": [
    "tloss10 = pm.compute_transmission_loss(env10, mode='coherent')"
   ]
  },
  {
   "cell_type": "code",
   "execution_count": null,
   "metadata": {},
   "outputs": [],
   "source": [
    "pm.plot_transmission_loss(tloss10, env=env10, clim=[-150,-30], width=900)\n"
   ]
  },
  {
   "cell_type": "code",
   "execution_count": null,
   "metadata": {},
   "outputs": [],
   "source": [
    "tloss50 = pm.compute_transmission_loss(env50, mode='coherent')"
   ]
  },
  {
   "cell_type": "code",
   "execution_count": null,
   "metadata": {},
   "outputs": [],
   "source": [
    "pm.plot_transmission_loss(tloss50, env=env50, clim=[-150,-30], width=900)"
   ]
  },
  {
   "cell_type": "code",
   "execution_count": null,
   "metadata": {},
   "outputs": [],
   "source": [
    "depth = [100, 200, 300, 400, 500, 600, 700, 800, 900, 1000, 1100, 1200, 1300]\n",
    "\n",
    "\n",
    "for i in range(0, len(depth)):\n",
    "    tx = depth[i]\n",
    "    env = pm.create_env2d(frequency=10000, min_angle=-5, max_angle=5, depth=2475, tx_depth=tx, rx_depth=[2425, 2350, 2275, 2200, 2125, 2050, 1975, 1900, 1825, 1750, 1675, 1600, 1525], rx_range=48000, soundspeed=ssp)\n",
    "    rays = pm.compute_rays(env)\n",
    "    pm.plot_rays(rays, env=env, width=900)"
   ]
  },
  {
   "cell_type": "code",
   "execution_count": null,
   "metadata": {},
   "outputs": [],
   "source": []
  },
  {
   "cell_type": "code",
   "execution_count": null,
   "metadata": {},
   "outputs": [],
   "source": []
  },
  {
   "cell_type": "code",
   "execution_count": null,
   "metadata": {},
   "outputs": [],
   "source": [
    "env = pm.create_env2d(frequency=10000, min_angle=-5, max_angle=5, depth=2475, tx_depth=[1510, 1513, 1516, 1519, 1522, 1525], rx_depth=[2425, 2350, 2275, 2200, 2125, 2050, 1975, 1900, 1825, 1750, 1675, 1600, 1525], rx_range=48000, soundspeed=ssp)\n",
    "\n",
    "env['rx_range'] = np.linspace(0, 48000, 501)\n",
    "env['rx_depth'] = np.linspace(0, 2475, 2476)"
   ]
  },
  {
   "cell_type": "code",
   "execution_count": null,
   "metadata": {
    "scrolled": true
   },
   "outputs": [],
   "source": [
    "tloss = pm.compute_transmission_loss(env)"
   ]
  },
  {
   "cell_type": "code",
   "execution_count": null,
   "metadata": {},
   "outputs": [],
   "source": [
    "pm.plot_transmission_loss(tloss, env=env, clim=[-150,-30], width=900)"
   ]
  },
  {
   "cell_type": "code",
   "execution_count": null,
   "metadata": {},
   "outputs": [],
   "source": [
    "env['rx_range'] = np.linspace(0, 2000, 2001)\n",
    "env['rx_depth'] = np.linspace(0, 2475, 2476)"
   ]
  },
  {
   "cell_type": "code",
   "execution_count": null,
   "metadata": {},
   "outputs": [],
   "source": [
    "tloss1 = pm.compute_transmission_loss(env)"
   ]
  },
  {
   "cell_type": "code",
   "execution_count": null,
   "metadata": {},
   "outputs": [],
   "source": [
    "pm.plot_transmission_loss(tloss1, env=env, clim=[-150,-30], width=900)"
   ]
  },
  {
   "cell_type": "code",
   "execution_count": null,
   "metadata": {},
   "outputs": [],
   "source": [
    "# compute the arrival structure at the receiver\n",
    "arrivals = pm.compute_arrivals(env)\n",
    "pm.plot_arrivals(arrivals, width=900)"
   ]
  },
  {
   "cell_type": "code",
   "execution_count": null,
   "metadata": {},
   "outputs": [],
   "source": [
    "arrivals[arrivals.arrival_number < 10][['time_of_arrival', 'angle_of_arrival', 'surface_bounces', 'bottom_bounces']]"
   ]
  },
  {
   "cell_type": "code",
   "execution_count": null,
   "metadata": {},
   "outputs": [],
   "source": [
    "# convert to a impulse response time series\n",
    "\n",
    "ir = pm.arrivals_to_impulse_response(arrivals, fs=96000)\n",
    "plt.plot(np.abs(ir), fs=96000, width=900)"
   ]
  },
  {
   "cell_type": "markdown",
   "metadata": {},
   "source": [
    "# Bathymetry"
   ]
  },
  {
   "cell_type": "markdown",
   "metadata": {},
   "source": [
    "Let's first start off by defining our bathymetry, a steep up-slope for the first 300 m, and then a gentle downslope:"
   ]
  },
  {
   "cell_type": "code",
   "execution_count": null,
   "metadata": {},
   "outputs": [],
   "source": [
    "# add/change bathy to env\n",
    "bathy = [\n",
    "    [0, 30],    # 30 m water depth at the transmitter\n",
    "    [300, 20],  # 20 m water depth 300 m away\n",
    "    [1000, 25]  # 25 m water depth at 1 km\n",
    "]\n",
    "\n",
    "# add/change SSP to env\n",
    "ssp = [\n",
    "    [ 0, 1540],  # 1540 m/s at the surface\n",
    "    [10, 1530],  # 1530 m/s at 10 m depth\n",
    "    [20, 1532],  # 1532 m/s at 20 m depth\n",
    "    [25, 1533],  # 1533 m/s at 25 m depth\n",
    "    [30, 1535]   # 1535 m/s at the seabed\n",
    "]\n",
    "\n",
    "# Appending ssp and bathy to existing env file\n",
    "env = pm.create_env2d(\n",
    "    depth=bathy,\n",
    "    soundspeed=ssp,\n",
    "    bottom_soundspeed=1450,\n",
    "    bottom_density=1200,\n",
    "    bottom_absorption=1.0,\n",
    "    tx_depth=15\n",
    ")\n",
    "pm.print_env(env)"
   ]
  },
  {
   "cell_type": "code",
   "execution_count": null,
   "metadata": {},
   "outputs": [],
   "source": [
    "pm.plot_env(env, width=900)"
   ]
  },
  {
   "cell_type": "markdown",
   "metadata": {},
   "source": [
    "Looks more interesting! Let's see what the eigenrays look like, and also the arrival structure:"
   ]
  },
  {
   "cell_type": "code",
   "execution_count": null,
   "metadata": {},
   "outputs": [],
   "source": [
    "rays = pm.compute_eigenrays(env)\n",
    "pm.plot_rays(rays, env=env, width=900)"
   ]
  },
  {
   "cell_type": "markdown",
   "metadata": {},
   "source": [
    "We could also ignore the receiver, and plot rays launched at various angles:"
   ]
  },
  {
   "cell_type": "code",
   "execution_count": null,
   "metadata": {},
   "outputs": [],
   "source": [
    "rays = pm.compute_rays(env)\n",
    "pm.plot_rays(rays, env=env, width=900)"
   ]
  },
  {
   "cell_type": "markdown",
   "metadata": {},
   "source": [
    "# Complex Bathymetry Example"
   ]
  },
  {
   "cell_type": "code",
   "execution_count": null,
   "metadata": {},
   "outputs": [],
   "source": [
    "import numpy as np\n",
    "from scipy.interpolate import griddata\n",
    "import scipy.ndimage as ndimage\n",
    "from scipy.ndimage import gaussian_filter\n",
    "import scipy\n",
    "# from scipy.misc import imsave\n",
    "from matplotlib import cm\n",
    "import matplotlib.pyplot as plt\n",
    "from mpl_toolkits.mplot3d import Axes3D\n",
    "from stl import mesh, Mode\n",
    "import matplotlib.tri as mtri\n",
    "from mpl_toolkits.mplot3d.axes3d import get_test_data\n",
    "from pandas import read_csv\n",
    "\n",
    "\n",
    "\n",
    "data = read_csv('bathy.txt', sep='\\s+', header=None, names=['x', 'y', 'depth'])\n",
    "\n",
    "x = np.arange(data.x.min(), data.x.max()+1)\n",
    "y = np.arange(data.y.min(), data.y.max()+1)\n",
    "\n",
    "X, Y = np.meshgrid(x, y)\n",
    "\n",
    "Z = griddata(data[['x','y']].values, -data['depth'].values, (X, Y), method='linear')\n",
    "\n",
    "# make the grid square\n",
    "Z[np.isnan(Z)] = 0\n",
    "\n",
    "fig = plt.figure(figsize=(14, 8))\n",
    "ax = fig.add_subplot(111)\n",
    "plt.imshow(Z)\n",
    "plt.show()"
   ]
  },
  {
   "cell_type": "markdown",
   "metadata": {},
   "source": [
    "<h3>       Figure 3: Bedford Basin Bathy 2D </h3>"
   ]
  },
  {
   "cell_type": "markdown",
   "metadata": {},
   "source": [
    "<h3>       Figure 4: Bedford Basin Bathy 3D </h3>"
   ]
  },
  {
   "cell_type": "markdown",
   "metadata": {},
   "source": [
    "or place lots of receivers in a grid to visualize the acoustic pressure field (or equivalently transmission loss). We can modify the environment (env) without having to recreate it, as it is simply a Python dictionary object:"
   ]
  },
  {
   "cell_type": "code",
   "execution_count": null,
   "metadata": {},
   "outputs": [],
   "source": [
    "env['rx_range'] = np.linspace(0, 1000, 1001)\n",
    "env['rx_depth'] = np.linspace(0, 30, 301)"
   ]
  },
  {
   "cell_type": "markdown",
   "metadata": {},
   "source": [
    "# Transmission Loss"
   ]
  },
  {
   "cell_type": "code",
   "execution_count": null,
   "metadata": {},
   "outputs": [],
   "source": [
    "- RUN TYPE BELLHOP\n",
    "\n",
    "OPTION(1:1):           'R' generates a ray file\n",
    "                       'E' generates an eigenray file\n",
    "                       'A' generates an amplitude-delay file (ascii)\n",
    "                       'a' generate  an amplitude-delay file (binary)\n",
    "                       'C' Coherent     TL calculation\n",
    "                       'I  Incoherent   TL calculation\n",
    "                       'S' Semicoherent TL calculation\n",
    "                            (Lloyd mirror source pattern)\n",
    "                        \n",
    "- The number of beams, NBeams, should normally be set to 0, allowing BELLHOP to automatically select the appropriate value. The number\n",
    "needed increases with frequency and the maximum range to a receiver. "
   ]
  },
  {
   "cell_type": "markdown",
   "metadata": {},
   "source": [
    "- The pressure field, p, is then calculated for the specified grid of receivers, with a scaling such that $20\\ log10(|p|)$ is the transmission loss in dB."
   ]
  },
  {
   "cell_type": "code",
   "execution_count": null,
   "metadata": {},
   "outputs": [],
   "source": [
    "tloss = pm.compute_transmission_loss(env)\n",
    "pm.plot_transmission_loss(tloss, env=env, clim=[-60,-30], width=900)"
   ]
  },
  {
   "cell_type": "markdown",
   "metadata": {},
   "source": [
    "We see a complicated interference pattern, but an interesting focusing at 800 m at a 15 m depth. The detailed interference pattern is of course sensitive to small changes in the environment. A less sensitive, but more averaged out, transmission loss estimate can be obtained using the incoherent mode:"
   ]
  },
  {
   "cell_type": "code",
   "execution_count": null,
   "metadata": {},
   "outputs": [],
   "source": [
    "tloss = pm.compute_transmission_loss(env, mode='incoherent')\n",
    "pm.plot_transmission_loss(tloss, env=env, clim=[-60,-30], width=900)"
   ]
  },
  {
   "cell_type": "markdown",
   "metadata": {},
   "source": [
    "# Source directionality"
   ]
  },
  {
   "cell_type": "markdown",
   "metadata": {},
   "source": [
    "Now, let's use a directional transmitter instead of an omni-directional one:"
   ]
  },
  {
   "cell_type": "code",
   "execution_count": null,
   "metadata": {},
   "outputs": [],
   "source": [
    "beampattern = np.array([\n",
    "    [-180,  10], [-170, -10], [-160,   0], [-150, -20], [-140, -10], [-130, -30],\n",
    "    [-120, -20], [-110, -40], [-100, -30], [-90 , -50], [-80 , -30], [-70 , -40],\n",
    "    [-60 , -20], [-50 , -30], [-40 , -10], [-30 , -20], [-20 ,   0], [-10 , -10],\n",
    "    [  0 ,  10], [ 10 , -10], [ 20 ,   0], [ 30 , -20], [ 40 , -10], [ 50 , -30],\n",
    "    [ 60 , -20], [ 70 , -40], [ 80 , -30], [ 90 , -50], [100 , -30], [110 , -40],\n",
    "    [120 , -20], [130 , -30], [140 , -10], [150 , -20], [160 ,   0], [170 , -10],\n",
    "    [180 ,  10]\n",
    "])\n",
    "env['tx_directionality'] = beampattern"
   ]
  },
  {
   "cell_type": "code",
   "execution_count": null,
   "metadata": {},
   "outputs": [],
   "source": [
    "tloss = pm.compute_transmission_loss(env)\n",
    "pm.plot_transmission_loss(tloss, env=env, clim=[-60,-30], width=900)"
   ]
  },
  {
   "cell_type": "markdown",
   "metadata": {},
   "source": [
    "Now you can see the directionality and the sidelobe structure of the transmitter."
   ]
  },
  {
   "cell_type": "code",
   "execution_count": null,
   "metadata": {},
   "outputs": [],
   "source": [
    "tloss = pm.compute_transmission_loss(env, mode='incoherent')\n",
    "pm.plot_transmission_loss(tloss, env=env, clim=[-60,-30], width=900)"
   ]
  },
  {
   "cell_type": "markdown",
   "metadata": {},
   "source": [
    "# Undulating water surface"
   ]
  },
  {
   "cell_type": "markdown",
   "metadata": {},
   "source": [
    "Finally, let's try adding a long wavelength swell on the water surface:"
   ]
  },
  {
   "cell_type": "code",
   "execution_count": null,
   "metadata": {},
   "outputs": [],
   "source": [
    "surface = np.array([[r, 0.5+0.5*np.sin(2*np.pi*0.005*r)] for r in np.linspace(0,1000,1001)])\n",
    "env['surface'] = surface"
   ]
  },
  {
   "cell_type": "code",
   "execution_count": null,
   "metadata": {},
   "outputs": [],
   "source": [
    "tloss = pm.compute_transmission_loss(env)\n",
    "pm.plot_transmission_loss(tloss, env=env, clim=[-60,-30], width=900)"
   ]
  },
  {
   "cell_type": "markdown",
   "metadata": {},
   "source": [
    "![ar13](ar-13.png \"ar-13\")"
   ]
  },
  {
   "cell_type": "code",
   "execution_count": null,
   "metadata": {},
   "outputs": [],
   "source": [
    "tloss = pm.compute_transmission_loss(env, mode='incoherent')\n",
    "pm.plot_transmission_loss(tloss, env=env, clim=[-60,-30], width=900)"
   ]
  },
  {
   "cell_type": "markdown",
   "metadata": {},
   "source": [
    "![ar14](ar-14.png \"ar-14\")"
   ]
  },
  {
   "cell_type": "markdown",
   "metadata": {},
   "source": [
    "Now, if I placed a receiver at 800 m, and 15 m depth, roughly where we see some focusing, what would the eigenrays and arrival structure look like?"
   ]
  },
  {
   "cell_type": "code",
   "execution_count": null,
   "metadata": {},
   "outputs": [],
   "source": [
    "Now, if I placed a receiver at 800 m, and 15 m depth, roughly where we see some focusing, what would the eigenrays and arrival structure look like"
   ]
  },
  {
   "cell_type": "code",
   "execution_count": null,
   "metadata": {},
   "outputs": [],
   "source": [
    "env['rx_range'] = 800\n",
    "env['rx_depth'] = 15"
   ]
  },
  {
   "cell_type": "code",
   "execution_count": null,
   "metadata": {},
   "outputs": [],
   "source": [
    "rays = pm.compute_eigenrays(env)\n",
    "pm.plot_rays(rays, env=env, width=900)"
   ]
  },
  {
   "cell_type": "markdown",
   "metadata": {},
   "source": [
    "![ar15](ar-15.png \"ar-15\")"
   ]
  },
  {
   "cell_type": "code",
   "execution_count": null,
   "metadata": {},
   "outputs": [],
   "source": [
    "arrivals = pm.compute_arrivals(env)\n",
    "pm.plot_arrivals(arrivals, dB=True, width=900)"
   ]
  },
  {
   "cell_type": "markdown",
   "metadata": {},
   "source": [
    "![ar16](ar-16.png \"ar-16\")"
   ]
  },
  {
   "cell_type": "markdown",
   "metadata": {},
   "source": [
    "**Note:** We plotted the amplitudes in dB, as the later arrivals are much weaker than the first one, and better visualized in a logarithmic scale."
   ]
  },
  {
   "cell_type": "markdown",
   "metadata": {},
   "source": [
    "# Bellhop3D"
   ]
  },
  {
   "cell_type": "markdown",
   "metadata": {},
   "source": [
    "- **BELLHOP3D** is a beam tracing model for predicting acoustic pressure fields in ocean environments. \n",
    "- It is an extension to 3D environments of the popular BELLHOP model and includes (optionally) horizontal refraction in the lat-long plane.\n",
    "- 3D pressure fields can be calculated by a 2D model simply by running it on a series of radials (bearing lines) from the source.(This is the so-called Nx2D or 2.5D approach.)"
   ]
  },
  {
   "cell_type": "markdown",
   "metadata": {},
   "source": [
    "- **BELLHOP3D** includes 4 different types of beams:\n",
    "    - Cerveny Beams,\n",
    "    - Geometric Hat-Beams,\n",
    "    - Geometric Gaussian-Beams,\n",
    "    - Geometric Hat-Beams in Cartesian Coordinates"
   ]
  },
  {
   "cell_type": "markdown",
   "metadata": {},
   "source": [
    "### P.S. : Not Supported right now on the python, still works great on MATLAB. "
   ]
  },
  {
   "cell_type": "code",
   "execution_count": null,
   "metadata": {},
   "outputs": [],
   "source": [
    "------------------------------------------------------------------------------------------------------------------------------"
   ]
  },
  {
   "cell_type": "markdown",
   "metadata": {},
   "source": [
    "# Another simulation case :"
   ]
  },
  {
   "cell_type": "markdown",
   "metadata": {},
   "source": [
    "Start off with checking that everything is working correctly:"
   ]
  },
  {
   "cell_type": "code",
   "execution_count": null,
   "metadata": {},
   "outputs": [],
   "source": [
    "# Author : Jay Patel, Dalhousie University\n",
    "# ECED 6575\n",
    "import arlpy.uwapm as pm\n",
    "import arlpy.plot as plt\n",
    "import numpy as np\n",
    "import pandas as pd"
   ]
  },
  {
   "cell_type": "code",
   "execution_count": null,
   "metadata": {},
   "outputs": [],
   "source": [
    "pm.models()"
   ]
  },
  {
   "cell_type": "code",
   "execution_count": null,
   "metadata": {},
   "outputs": [],
   "source": [
    "# We next create an underwater 2D environment (with default settings) to model:\n",
    "\n",
    "env = pm.create_env2d()\n",
    "pm.print_env(env)"
   ]
  },
  {
   "cell_type": "code",
   "execution_count": null,
   "metadata": {},
   "outputs": [],
   "source": [
    "# =============================================================================\n",
    "# Sound speed profile\n",
    "# =============================================================================\n",
    "# ssp = 1500\n",
    "\n",
    "# Depth dependent sound speed as an array\n",
    "ssp = [\n",
    "    [0, 1540.4],   # Speed at the surface\n",
    "    [10, 1540.5],\n",
    "    [20, 1540.7],\n",
    "    [30, 1534.4],\n",
    "    [50, 1523.3],\n",
    "    [75, 1519.6],\n",
    "    [100, 1518.5]  # Speed at the seabed\n",
    "]"
   ]
  },
  {
   "cell_type": "code",
   "execution_count": null,
   "metadata": {},
   "outputs": [],
   "source": [
    "depth = 100"
   ]
  },
  {
   "cell_type": "code",
   "execution_count": null,
   "metadata": {},
   "outputs": [],
   "source": [
    "# Bottom properties\n",
    "bottom_absorption = 1.0\n",
    "bottom_density = 1200"
   ]
  },
  {
   "cell_type": "code",
   "execution_count": null,
   "metadata": {},
   "outputs": [],
   "source": [
    "# =============================================================================\n",
    "# Surface parameters\n",
    "# =============================================================================\n",
    "surface = None\n",
    "\n",
    "# Surface profile\n",
    "# surface = np.array([[r, 0.5+0.5*np.sin(2*np.pi*0.005*r)]\n",
    "#                     for r in np.linspace(0, scenario.rx_range, 1+scenario.rx_range)])"
   ]
  },
  {
   "cell_type": "code",
   "execution_count": null,
   "metadata": {},
   "outputs": [],
   "source": [
    "# =============================================================================\n",
    "# Ambient noise\n",
    "# =============================================================================\n",
    "sea_state = 3\n",
    "\n",
    "# Ambient noise table\n",
    "# TODO: Convert to lookup table based on sea_state and scenario.tx_frequency\n",
    "an = pd.DataFrame({\n",
    "        1: [34],                # profile at SS1\n",
    "        2: [39],                # profile at SS2\n",
    "        3: [47],                # profile at SS3\n",
    "        4: [50],                # profile at SS4\n",
    "        5: [52],                # profile at SS5\n",
    "        6: [54]},               # profile at SS6\n",
    "        index=[20000])          # frequency of profiles in Hz"
   ]
  },
  {
   "cell_type": "code",
   "execution_count": null,
   "metadata": {},
   "outputs": [],
   "source": [
    "# =============================================================================\n",
    "# TX properties\n",
    "# =============================================================================\n",
    "# tx_beampattern = np.array([\n",
    "#     [-180,  10], [-170, -10], [-160,   0], [-150, -20], [-140, -10], [-130, -30],\n",
    "#     [-120, -20], [-110, -40], [-100, -30], [-90 , -50], [-80 , -30], [-70 , -40],\n",
    "#     [-60 , -20], [-50 , -30], [-40 , -10], [-30 , -20], [-20 ,   0], [-10 , -10],\n",
    "#     [  0 ,  10], [ 10 , -10], [ 20 ,   0], [ 30 , -20], [ 40 , -10], [ 50 , -30],\n",
    "#     [ 60 , -20], [ 70 , -40], [ 80 , -30], [ 90 , -50], [100 , -30], [110 , -40],\n",
    "#     [120 , -20], [130 , -30], [140 , -10], [150 , -20], [160 ,   0], [170 , -10],\n",
    "#     [180 ,  10]\n",
    "# ])\n",
    "tx_beampattern = None\n",
    "tx_depth = 50           # m\n",
    "tx_frequency = 20000    # Hz\n",
    "tx_source_level = 150   # dB\n",
    "tx_speed_range = 20     # knots"
   ]
  },
  {
   "cell_type": "code",
   "execution_count": null,
   "metadata": {},
   "outputs": [],
   "source": [
    "# =============================================================================\n",
    "# RX properties\n",
    "# =============================================================================\n",
    "rx_bandwidth = 10           # Hz\n",
    "rx_depth = 15               # m\n",
    "rx_detection_threshold = 5  # dB\n",
    "rx_directivity_index = 10   # dB\n",
    "rx_range = 2000             # m\n"
   ]
  },
  {
   "cell_type": "code",
   "execution_count": null,
   "metadata": {},
   "outputs": [],
   "source": [
    "env = pm.create_env2d(\n",
    "        bottom_absorption=bottom_absorption,\n",
    "        bottom_density=bottom_density,\n",
    "        depth=depth,\n",
    "        soundspeed=ssp,\n",
    "        surface=surface,\n",
    "        rx_depth=rx_depth,\n",
    "        rx_range=rx_range,\n",
    "        tx_depth=tx_depth,\n",
    "        tx_directionality=tx_beampattern\n",
    "    )"
   ]
  },
  {
   "cell_type": "code",
   "execution_count": null,
   "metadata": {},
   "outputs": [],
   "source": [
    "pm.print_env(env)"
   ]
  },
  {
   "cell_type": "code",
   "execution_count": null,
   "metadata": {},
   "outputs": [],
   "source": [
    "pm.plot_env(env, width=900)"
   ]
  },
  {
   "cell_type": "markdown",
   "metadata": {},
   "source": [
    "![ar17](ar-17.png \"ar-17\")"
   ]
  },
  {
   "cell_type": "code",
   "execution_count": null,
   "metadata": {},
   "outputs": [],
   "source": [
    "pm.plot_ssp(env, width=900)"
   ]
  },
  {
   "cell_type": "markdown",
   "metadata": {},
   "source": [
    "![ar18](ar-18.png \"ar-18\")"
   ]
  },
  {
   "cell_type": "code",
   "execution_count": null,
   "metadata": {},
   "outputs": [],
   "source": [
    "rays = pm.compute_eigenrays(env)\n",
    "pm.plot_rays(rays, env=env, width=900)"
   ]
  },
  {
   "cell_type": "markdown",
   "metadata": {},
   "source": [
    "![ar19](ar-19.png \"ar-19\")"
   ]
  },
  {
   "cell_type": "code",
   "execution_count": null,
   "metadata": {},
   "outputs": [],
   "source": [
    "rays = pm.compute_rays(env , debug=False)\n",
    "pm.plot_rays(rays, env=env, width=900)"
   ]
  },
  {
   "cell_type": "markdown",
   "metadata": {},
   "source": [
    "![ar20](ar-20.png \"ar-20\")"
   ]
  },
  {
   "cell_type": "code",
   "execution_count": null,
   "metadata": {},
   "outputs": [],
   "source": [
    "arrivals = pm.compute_arrivals(env)\n",
    "pm.plot_arrivals(arrivals, width=900)"
   ]
  },
  {
   "cell_type": "markdown",
   "metadata": {},
   "source": [
    "![ar21](ar-21.png \"ar-21\")"
   ]
  },
  {
   "cell_type": "code",
   "execution_count": null,
   "metadata": {},
   "outputs": [],
   "source": [
    "arrivals[arrivals.arrival_number < 10][['time_of_arrival', 'angle_of_arrival', 'surface_bounces', 'bottom_bounces']]"
   ]
  },
  {
   "cell_type": "code",
   "execution_count": null,
   "metadata": {},
   "outputs": [],
   "source": [
    "ir = pm.arrivals_to_impulse_response(arrivals, fs=96000)\n",
    "plt.plot(np.abs(ir), fs=96000, width=900)"
   ]
  },
  {
   "cell_type": "markdown",
   "metadata": {},
   "source": [
    "![ar22](ar-22.png \"ar-22\")"
   ]
  },
  {
   "cell_type": "code",
   "execution_count": null,
   "metadata": {},
   "outputs": [],
   "source": [
    "env['rx_range'] = np.linspace(0, 2000, 1001)\n",
    "env['rx_depth'] = np.linspace(0, 15, 301)"
   ]
  },
  {
   "cell_type": "code",
   "execution_count": null,
   "metadata": {},
   "outputs": [],
   "source": [
    "tloss = pm.compute_transmission_loss(env)\n",
    "pm.plot_transmission_loss(tloss, env=env, clim=[-60,-30], width=900)"
   ]
  },
  {
   "cell_type": "markdown",
   "metadata": {},
   "source": [
    "![ar23](ar-23.png \"ar-23\")"
   ]
  },
  {
   "cell_type": "markdown",
   "metadata": {},
   "source": [
    "# More complex environments"
   ]
  },
  {
   "cell_type": "code",
   "execution_count": null,
   "metadata": {},
   "outputs": [],
   "source": [
    "env['rx_range'] = np.linspace(0, 2000, 1001)\n",
    "env['rx_depth'] = np.linspace(0, 15, 301)"
   ]
  },
  {
   "cell_type": "code",
   "execution_count": null,
   "metadata": {},
   "outputs": [],
   "source": [
    "beampattern = np.array([\n",
    "    [-180,  10], [-170, -10], [-160,   0], [-150, -20], [-140, -10], [-130, -30],\n",
    "    [-120, -20], [-110, -40], [-100, -30], [-90 , -50], [-80 , -30], [-70 , -40],\n",
    "    [-60 , -20], [-50 , -30], [-40 , -10], [-30 , -20], [-20 ,   0], [-10 , -10],\n",
    "    [  0 ,  10], [ 10 , -10], [ 20 ,   0], [ 30 , -20], [ 40 , -10], [ 50 , -30],\n",
    "    [ 60 , -20], [ 70 , -40], [ 80 , -30], [ 90 , -50], [100 , -30], [110 , -40],\n",
    "    [120 , -20], [130 , -30], [140 , -10], [150 , -20], [160 ,   0], [170 , -10],\n",
    "    [180 ,  10]\n",
    "])\n",
    "env['tx_directionality'] = beampattern"
   ]
  },
  {
   "cell_type": "code",
   "execution_count": null,
   "metadata": {},
   "outputs": [],
   "source": [
    "tloss = pm.compute_transmission_loss(env)\n",
    "pm.plot_transmission_loss(tloss, env=env, clim=[-60,-30], width=900)"
   ]
  },
  {
   "cell_type": "markdown",
   "metadata": {},
   "source": [
    "![ar24](ar-24.png \"ar-24\")"
   ]
  },
  {
   "cell_type": "markdown",
   "metadata": {},
   "source": [
    "Now you can see the directionality and the sidelobe structure of the transmitter.\n",
    "\n",
    "### Undulating water surface\n",
    "\n",
    "Finally, let's try adding a long wavelength swell on the water surface:"
   ]
  },
  {
   "cell_type": "code",
   "execution_count": null,
   "metadata": {},
   "outputs": [],
   "source": [
    "surface = np.array([[r, 0.5+0.5*np.sin(2*np.pi*0.005*r)] for r in np.linspace(0,2000,2001)])\n",
    "env['surface'] = surface"
   ]
  },
  {
   "cell_type": "code",
   "execution_count": null,
   "metadata": {},
   "outputs": [],
   "source": [
    "tloss = pm.compute_transmission_loss(env)\n",
    "pm.plot_transmission_loss(tloss, env=env, clim=[-60,-30], width=900)"
   ]
  },
  {
   "cell_type": "markdown",
   "metadata": {},
   "source": [
    "![ar25](ar-25.png \"ar-25\")"
   ]
  },
  {
   "cell_type": "markdown",
   "metadata": {},
   "source": [
    "Now, if I placed a receiver at 655 m, and 8 m depth, roughly where we see some focusing, what would the eigenrays and arrival structure look like?"
   ]
  },
  {
   "cell_type": "code",
   "execution_count": null,
   "metadata": {},
   "outputs": [],
   "source": [
    "env['rx_range'] = 655\n",
    "env['rx_depth'] = 8"
   ]
  },
  {
   "cell_type": "code",
   "execution_count": null,
   "metadata": {},
   "outputs": [],
   "source": [
    "rays = pm.compute_eigenrays(env)\n",
    "pm.plot_rays(rays, env=env, width=900)"
   ]
  },
  {
   "cell_type": "markdown",
   "metadata": {},
   "source": [
    "![ar26](ar-26.png \"ar-26\")"
   ]
  },
  {
   "cell_type": "code",
   "execution_count": null,
   "metadata": {},
   "outputs": [],
   "source": [
    "arrivals = pm.compute_arrivals(env)\n",
    "pm.plot_arrivals(arrivals, dB=True, width=900)"
   ]
  },
  {
   "cell_type": "markdown",
   "metadata": {},
   "source": [
    "![ar27](ar-27.png \"ar-27\")"
   ]
  },
  {
   "cell_type": "markdown",
   "metadata": {},
   "source": [
    "We plotted the amplitudes in dB, as the later arrivals are much weaker than the first one, and better visualized in a logarithmic scale."
   ]
  },
  {
   "cell_type": "markdown",
   "metadata": {},
   "source": [
    "# Generate Chirp Signal and check response of channel:"
   ]
  },
  {
   "cell_type": "code",
   "execution_count": null,
   "metadata": {},
   "outputs": [],
   "source": [
    "from scipy import signal\n",
    "import matplotlib.pyplot as mplt"
   ]
  },
  {
   "cell_type": "code",
   "execution_count": null,
   "metadata": {},
   "outputs": [],
   "source": [
    "ir = pm.arrivals_to_impulse_response(arrivals, fs=96000, abs_time=True)"
   ]
  },
  {
   "cell_type": "markdown",
   "metadata": {},
   "source": [
    "We'll create a chirp signal 10-20 kHz in 1/4 second and then send that signal through the channel:"
   ]
  },
  {
   "cell_type": "code",
   "execution_count": null,
   "metadata": {},
   "outputs": [],
   "source": [
    "t = np.linspace(0,1//4,96000//4+1)\n",
    "chirp = signal.chirp(t,10000,1/4,20000)\n",
    "ch_resp = signal.fftconvolve(chirp, ir)"
   ]
  },
  {
   "cell_type": "markdown",
   "metadata": {},
   "source": [
    "Spectrogram for 500m range channel:"
   ]
  },
  {
   "cell_type": "code",
   "execution_count": null,
   "metadata": {},
   "outputs": [],
   "source": [
    "%matplotlib notebook"
   ]
  },
  {
   "cell_type": "code",
   "execution_count": null,
   "metadata": {},
   "outputs": [],
   "source": [
    "env['rx_range'] = 655\n",
    "arrivals = pm.compute_arrivals(env)\n",
    "ir = pm.arrivals_to_impulse_response(arrivals, fs=96000, abs_time=True)\n",
    "ch_resp = signal.fftconvolve(chirp, ir)\n",
    "mplt.figure()\n",
    "Pxx, freqs, bins, im = mplt.specgram(ch_resp, Fs=96000,sides='onesided')\n",
    "mplt.ylabel('freq [Hz]')\n",
    "mplt.xlabel('time [sec]')"
   ]
  },
  {
   "cell_type": "markdown",
   "metadata": {},
   "source": [
    "![ar28](ar-28n.png \"ar-28\")"
   ]
  },
  {
   "cell_type": "code",
   "execution_count": null,
   "metadata": {},
   "outputs": [],
   "source": [
    "# first 10 arrivals : compare the figures\n",
    "pm.plot_arrivals(arrivals, dB=True, width=900)"
   ]
  },
  {
   "cell_type": "markdown",
   "metadata": {},
   "source": [
    "![ar29](ar-29.png \"ar-29\")"
   ]
  },
  {
   "cell_type": "markdown",
   "metadata": {},
   "source": [
    "Spectrogram for 2000m channel:"
   ]
  },
  {
   "cell_type": "code",
   "execution_count": null,
   "metadata": {},
   "outputs": [],
   "source": [
    "env['rx_range'] = 2000\n",
    "arrivals = pm.compute_arrivals(env)\n",
    "ir = pm.arrivals_to_impulse_response(arrivals, fs=96000, abs_time=True)\n",
    "mplt.figure()\n",
    "ch_resp = signal.fftconvolve(chirp, ir)\n",
    "Pxx, freqs, bins, im = mplt.specgram(ch_resp, Fs=96000, sides='onesided')\n",
    "mplt.ylabel('freq [Hz]')\n",
    "mplt.xlabel('time [sec]')"
   ]
  },
  {
   "cell_type": "markdown",
   "metadata": {},
   "source": [
    "![ar30](ar-30.png \"ar-30\")"
   ]
  },
  {
   "cell_type": "code",
   "execution_count": null,
   "metadata": {},
   "outputs": [],
   "source": [
    "# first 10 arrivals : compare the figures\n",
    "pm.plot_arrivals(arrivals, dB=True, width=900)"
   ]
  },
  {
   "cell_type": "markdown",
   "metadata": {},
   "source": [
    "![ar31](ar-31.png \"ar-31\")"
   ]
  },
  {
   "cell_type": "code",
   "execution_count": null,
   "metadata": {},
   "outputs": [],
   "source": [
    "rays = pm.compute_rays(env , debug=True)"
   ]
  },
  {
   "cell_type": "markdown",
   "metadata": {},
   "source": [
    "# Appendix"
   ]
  },
  {
   "cell_type": "code",
   "execution_count": null,
   "metadata": {},
   "outputs": [],
   "source": [
    "This is bellhop *.env file example:"
   ]
  },
  {
   "cell_type": "code",
   "execution_count": null,
   "metadata": {},
   "outputs": [],
   "source": [
    "'arlpy'                  / (Graph Title - just for Fortran/MATLAB)\n",
    "25000.000000             / FREQUENCY\n",
    "1                        / [UNUSED]\n",
    "'SVWT*'                  / [(SSP INTERP METHOD)(TOP LAYER)(BOTTOM ATTENUATION UNITS)(VOLUME ATTENUATION)]\n",
    "1 0.0 100.000000         / [UNUSED] [UNUSED] [MAX DEPTH]\n",
    "  0.000000 1540.400000   / [DEPTH] [SOUND SPEED] \n",
    "  10.000000 1540.500000  / [DEPTH] [SOUND SPEED]\n",
    "  20.000000 1540.700000  / [DEPTH] [SOUND SPEED]\n",
    "  30.000000 1534.400000  / [DEPTH] [SOUND SPEED]\n",
    "  50.000000 1523.300000  / [DEPTH] [SOUND SPEED]\n",
    "  75.000000 1519.600000  / [DEPTH] [SOUND SPEED]\n",
    "  100.000000 1518.500000 / [DEPTH] [SOUND SPEED]\n",
    "'A' 0.000000             / [(BOTTOM LAYER)(EXTERNAL BATHYMETRY] [SIGMA BOTTOM ROUGHNESS]\n",
    "100.000000 1600.000000 0.0 1.200000 1.000000 / [MAX DEPTH] [SOUND SPEED BOTTOM] [UNUSED] [DENSITY BOTTOM] [ATTENUATION BOTTOM]\n",
    "1                        / [NUMBER SOURCES]\n",
    "50.000000                / [SOURCE DEPTHS 1:N (m)]\n",
    "1                        / [NUMBER RECEIVER DEPTHS]\n",
    "8.000000                 / [RECEIVER DEPTHS 1:N (m)]\n",
    "1                        / [NUMBER RECEIVER RANGES]\n",
    "2.000000                 / [RECEIVER RANGES 1:N (km)]\n",
    "'R *'                    / [(RUN TYPE)(BEAM TYPE)(EXTERNAL SOURCE BEAM PATTERN)] ; typically \"R/C/I/S\" - Refer next line\n",
    "0                        / [NUMBER OF BEAMS] ; default is 0 that means bellhop calculates it by itself using \n",
    "-80.000000 80.000000     / [MIN ANGLE] [MAX ANGLE]\n",
    "0.0 101.000000 2.020000  / [STEP SIZE] [DEPTH BOX] [RANGE BOX] ; default step size is 0."
   ]
  },
  {
   "cell_type": "code",
   "execution_count": null,
   "metadata": {},
   "outputs": [],
   "source": [
    "# Another Sample Input (Environmental) File:\n",
    "\n",
    "'Munk profile'        ! TITLE\n",
    "50.0                  ! FREQ (Hz)\n",
    "1                     ! NMEDIA\n",
    "'SVN'                 ! SSPOPT (Analytic or C-linear interpolation)\n",
    "51  0.0  5000.0       ! DEPTH of bottom (m)\n",
    "    0.0  1548.52  /\n",
    "  200.0  1530.29  /\n",
    "  250.0  1526.69  /\n",
    "  400.0  1517.78  /\n",
    "  600.0  1509.49  /\n",
    "  800.0  1504.30  /\n",
    " 1000.0  1501.38  /\n",
    " 1200.0  1500.14  /\n",
    " 1400.0  1500.12  /\n",
    " 1600.0  1501.02  /\n",
    " 1800.0  1502.57  /\n",
    " 2000.0  1504.62  /\n",
    " 2200.0  1507.02  /\n",
    " 2400.0  1509.69  /\n",
    " 2600.0  1512.55  /\n",
    " 2800.0  1515.56  /\n",
    " 3000.0  1518.67  /\n",
    " 3200.0  1521.85  /\n",
    " 3400.0  1525.10  /\n",
    " 3600.0  1528.38  /\n",
    " 3800.0  1531.70  /\n",
    " 4000.0  1535.04  /\n",
    " 4200.0  1538.39  /\n",
    " 4400.0  1541.76  /\n",
    " 4600.0  1545.14  /\n",
    " 4800.0  1548.52  /\n",
    " 5000.0  1551.91  /\n",
    "'V'  0.0\n",
    "1                       ! NSD\n",
    "1000.0 /                ! SD(1:NSD) (m)\n",
    "2                       ! NRD\n",
    "0.0 5000.0 /            ! RD(1:NRD) (m)\n",
    "501                     ! NRR\n",
    "0.0  100.0 /            ! RR(1:NR ) (km)\n",
    "'R'                     ! Run-type: 'R/C/I/S'\n",
    "51                      ! NBEAMS\n",
    "-11.0 11.0 /            ! ALPHA(1:NBEAMS) (degrees)\n",
    "200.0  5500.0  101.0    ! STEP (m)  ZBOX (m)  RBOX (km)"
   ]
  },
  {
   "cell_type": "markdown",
   "metadata": {},
   "source": [
    "### Description of Inputs\n",
    "\n",
    "The first 6 blocks in the ENVFIL are common to all the programs in the Acoustics Toolbox. The following blocks should be appended for BELLHOP:       \n",
    " (7) - SOURCE/RECEIVER DEPTHS AND RANGES\n",
    "       Syntax:\n",
    "\n",
    "          NSD\n",
    "          SD(1:NSD)\n",
    "          NRD\n",
    "          RD(1:NRD)\n",
    "          NR\n",
    "          R(1:NR )\n",
    "\n",
    "       Description:\n",
    "\n",
    "          NSD:  The number of source depths\n",
    "          SD(): The source depths (m)\n",
    "          NRD:  The number of receiver depths\n",
    "          RD(): The receiver depths (m)\n",
    "          NR:   The number of receiver ranges\n",
    "          R():  The receiver ranges (km)\n",
    "\n",
    "This data is read in using list-directed I/O you can type it just about any way you want, e.g. on one line or split onto several lines.  Also if the depths or ranges are equally spaced then you can type just the first and last depths followed by a '/' and the intermediate depths will be generated automatically.\n",
    "You can specify a receiver at zero range; however, the BELLHOP field is singular there--- the pressure is returned as zero.\n",
    "Some of the subroutines that calculate the beam influence allow an arbitrary vector of receiver ranges; others require it to be equally spaced in range. In particular, only the following allow an arbitrary range vector:\n",
    "\n",
    "    'G' GeoHatCart\n",
    "    'B' GeoGaussianCart\n",
    "    CerveyRayCen\n",
    " (8) - RUN TYPE\n",
    "       Syntax:\n",
    "\n",
    "          OPTION\n",
    "\n",
    "       Description:\n",
    "\n",
    "          OPTION(1:1): 'R' generates a ray file\n",
    "                       'E' generates an eigenray file\n",
    "                       'A' generates an amplitude-delay file (ascii)\n",
    "                       'a' generate  an amplitude-delay file (binary)\n",
    "                       'C' Coherent     TL calculation\n",
    "                       'I  Incoherent   TL calculation\n",
    "                       'S' Semicoherent TL calculation\n",
    "                            (Lloyd mirror source pattern)\n",
    "\n",
    "          OPTION(2:2): 'G' Geometric hat beams in Cartesian coordinates (default)\n",
    "                       'g' Geometric hat beams in ray-centered coordinates\n",
    "                       'B' Geometric Gaussian beams\n",
    "\n",
    "          OPTION(3:3): '*' read in a source beam pattern file\n",
    "                       'O' don't (default)\n",
    "\n",
    "          OPTION(4:4): 'R' point source (cylindrical coordinates) (default)\n",
    "                       'X' line  source (cartesian coordinates)\n",
    "\n",
    "          OPTION(5:5): 'R' rectilinear grid (default)\n",
    "                       'I' irregular grid\n",
    "\n",
    "The ray file and eigenray files have the same simple ascii format and can be plotted using the Matlab script plotray.m.\n",
    "The eigenray option seems to generate a lot of questions. The way this works is that BELLHOP simply writes the trajectories for all the beams that contribute at a given receiver location. To get a useful picture you normally want to use a very fine fan, only one receiver location, and the geometric beam option. See the examples in at/tests.\n",
    "The amplitude-delay file can be used with the Matlab script stackarr.m to 'stack the arrivals', i.e. to convolve them with the source spectrum and plot the channel response. stackarr.m can also be used to simple plot the impulse response.\n",
    "\n",
    "For TL calculations, the output is in the shdfil format used by all the codes in the Acoustics Toolbox and can be plotted using the Matlab script, plotshd.m. (Use toasc.f to convert the binary shade files to ascii format for use by plotshd.m or whatever plot package you're using.)\n",
    "The pressure field is normally calculated on a rectilinear grid formed by the receiver ranges and depths. If an irregular grid is selected, then the receiver ranges and depths are interpreted as a coordinate pair for the receivers. This option is useful for reverberation calculations where the receivers need to follow the bottom terrain. This option has not been used much. The plot routines (plotarr) have not been modified to accomodate it. There may be some other limitations.\n",
    "There are actually several different types of Gaussian beam options (OPTION(2:2)) implemented in the code. Only the two described above are fully maintained.\n",
    "\n",
    "The source beam pattern file has the format\n",
    "\n",
    "       NSBPPts\n",
    "       angle1  power1\n",
    "       angle2  power2\n",
    "        ...\n",
    "\n",
    "with angle following the BELLHOP convention, i.e. declination angle in degrees (so that 90 degrees points to the bottom). The power is in dB. To match a standard point source calculation one would used anisotropic source with 0 dB for all angles. (See at/tests/BeamPattern for an example.)\n",
    " (9) - BEAM FAN\n",
    "       Syntax:\n",
    "\n",
    "          NBEAMS ISINGLE\n",
    "          ALPHA(1:NBEAMS)\n",
    "\n",
    "       Description:\n",
    "\n",
    "                  NBEAMS: Number of beams\n",
    "              (use 0 to have the program calculate a value automatically, but conservatively).\n",
    "\n",
    "          ISINGLE: If the option to compute a single beam in the fan is selected (top option)\n",
    "              then this selects the index of the beam that is traced.\n",
    "\n",
    "          ALPHA(): Beam angles (negative angles toward surface)\n",
    "\n",
    "For a ray trace you can type in a sequence of angles or you can type the first and last angles followed by a '/'.  \n",
    "For a TL calculation, the rays must be equally spaced otherwise the results will be incorrect.\n",
    "\n",
    " (10) - NUMERICAL INTEGRATOR INFO\n",
    "       Syntax:\n",
    "\n",
    "          STEP ZBOX RBOX\n",
    "\n",
    "       Description:\n",
    "\n",
    "          STEP:  The step size used for tracing the rays (m). (Use 0 to let BELLHOP choose the step size.)\n",
    "          ZBOX:  The maximum depth to trace a ray        (m).\n",
    "          RBOX:  The maximum range to trace a ray       (km).\n",
    "\n",
    "The required step size depends on many factors.  \n",
    "This includes frequency, size of features in the SSP (such as surface ducts), range of receivers, and whether \n",
    "a coherent or incoherent TL calculation is performed.  If you use STEP=0.0 BELLHOP will use a default step-size \n",
    "and tell you what it picked.  You should then halve the step size until the results are convergent to your required accuracy. \n",
    "To obtain a smooth ray trace you should use the spline SSP interpolation and a step-size less than the smallest distance \n",
    "between SSP data points. Rays are traced until they exit the box ( ZBOX, RBOX ).  By setting ZBOX less than the water \n",
    "depth you can eliminate bottom reflections. Make ZBOX, RBOX a bit (say 1%) roomy too make sure rays are not killed \n",
    "the moment they hit the bottom or are just reaching your furthest receiver."
   ]
  },
  {
   "cell_type": "code",
   "execution_count": null,
   "metadata": {},
   "outputs": [],
   "source": [
    "This is bellhop file run log example:"
   ]
  },
  {
   "cell_type": "code",
   "execution_count": null,
   "metadata": {},
   "outputs": [],
   "source": [
    " BELLHOP/BELLHOP3D\n",
    "\n",
    " BELLHOP- arlpy                                                                  \n",
    " frequency =  0.2500E+05 Hz\n",
    "\n",
    " Dummy parameter NMedia =            1\n",
    "\n",
    "     Spline approximation to SSP\n",
    "     Attenuation units: dB/wavelength\n",
    "     THORP attenuation added\n",
    "     Altimetry file selected\n",
    "     VACUUM\n",
    "\n",
    " Depth =     100.00 m\n",
    "\n",
    " Sound speed profile:\n",
    "   z (m)     alphaR (m/s)   betaR  rho (g/cm^3)  alphaI     betaI\n",
    "\n",
    "      0.00      1540.40      0.00     1.00       0.0000    0.0000\n",
    "     10.00      1540.50      0.00     1.00       0.0000    0.0000\n",
    "     20.00      1540.70      0.00     1.00       0.0000    0.0000\n",
    "     30.00      1534.40      0.00     1.00       0.0000    0.0000\n",
    "     50.00      1523.30      0.00     1.00       0.0000    0.0000\n",
    "     75.00      1519.60      0.00     1.00       0.0000    0.0000\n",
    "    100.00      1518.50      0.00     1.00       0.0000    0.0000\n",
    "\n",
    "                                 ( RMS roughness =   0.00     )\n",
    "     ACOUSTO-ELASTIC half-space\n",
    "    100.00      1600.00      0.00     1.20       1.0000    0.0000\n",
    "\n",
    " __________________________________________________________________________\n",
    "\n",
    "\n",
    " Number of source   depths =            1\n",
    " Source depths (m)\n",
    "   50.0000    \n",
    "\n",
    " Number of receiver depths =            1\n",
    " Receiver depths (m)\n",
    "   8.00000    \n",
    "\n",
    " Number of receiver ranges =            1\n",
    " Receiver ranges (km)\n",
    "   2.00000    \n",
    "\n",
    " Ray trace run\n",
    " Geometric hat beams in Cartesian coordinates\n",
    " Point source (cylindrical coordinates)\n",
    " Rectilinear receiver grid: Receivers at rr( : ) x rd( : )\n",
    "\n",
    " Number of beams in elevation   =           50\n",
    " Beam take-off angles (degrees)\n",
    "  -80.0000      -76.7347      -73.4694      -70.2041      -66.9388    \n",
    "  -63.6735      -60.4082      -57.1429      -53.8776      -50.6122    \n",
    "  -47.3469      -44.0816      -40.8163      -37.5510      -34.2857    \n",
    "  -31.0204      -27.7551      -24.4898      -21.2245      -17.9592    \n",
    "  -14.6939    \n",
    "  ...    80.000000000000000     \n",
    "\n",
    " __________________________________________________________________________\n",
    "\n",
    "\n",
    " Step length,      deltas =    0.0000000000000000      m\n",
    "\n",
    " Maximum ray depth, Box%z =    101.00000000000000      m\n",
    " Maximum ray range, Box%r =    2020.0000000000000      m\n",
    "\n",
    " *********************************\n",
    " Using top-altimetry file\n",
    " Piecewise linear interpolation\n",
    " Number of altimetry points        2001\n",
    "\n",
    "  Range (km)  Depth (m)\n",
    "   0.00      0.500    \n",
    "  0.100E-02  0.516    \n",
    "  0.200E-02  0.531    \n",
    "  0.300E-02  0.547    \n",
    "  0.400E-02  0.563    \n",
    "  0.500E-02  0.578    \n",
    "  0.600E-02  0.594    \n",
    "  0.700E-02  0.609    \n",
    "  0.800E-02  0.624    \n",
    "  0.900E-02  0.639    \n",
    "  0.100E-01  0.655    \n",
    "  0.110E-01  0.669    \n",
    "  0.120E-01  0.684    \n",
    "  0.130E-01  0.699    \n",
    "  0.140E-01  0.713    \n",
    "  0.150E-01  0.727    \n",
    "  0.160E-01  0.741    \n",
    "  0.170E-01  0.755    \n",
    "  0.180E-01  0.768    \n",
    "\n",
    " ______________________________\n",
    " Using source beam pattern file\n",
    " Number of source beam pattern points          37\n",
    "\n",
    "  Angle (degrees)  Power (dB)\n",
    "  -180.       10.0    \n",
    "  -170.      -10.0    \n",
    "  -160.       0.00    \n",
    "  -150.      -20.0    \n",
    "  -140.      -10.0    \n",
    "  -130.      -30.0    \n",
    "  -120.      -20.0    \n",
    "  -110.      -40.0    \n",
    "  -100.      -30.0    \n",
    "  -90.0      -50.0    \n",
    "  -80.0      -30.0    \n",
    "  -70.0      -40.0    \n",
    "  -60.0      -20.0    \n",
    "  -50.0      -30.0    \n",
    "  -40.0      -10.0    \n",
    "  -30.0      -20.0    \n",
    "  -20.0       0.00    \n",
    "  -10.0      -10.0    \n",
    "   0.00       10.0    \n",
    "   10.0      -10.0    \n",
    "   20.0       0.00    \n",
    "   30.0      -20.0    \n",
    "   40.0      -10.0    \n",
    "   50.0      -30.0    \n",
    "   60.0      -20.0    \n",
    "   70.0      -40.0    \n",
    "   80.0      -30.0    \n",
    "   90.0      -50.0    \n",
    "   100.      -30.0    \n",
    "   110.      -40.0    \n",
    "   120.      -20.0    \n",
    "   130.      -30.0    \n",
    "   140.      -10.0    \n",
    "   150.      -20.0    \n",
    "   160.       0.00    \n",
    "   170.      -10.0    \n",
    "   180.       10.0    \n",
    "\n",
    " Step length,      deltas =    10.000000000000000      m (automatically selected)\n",
    "\n",
    "Tracing beam       1    -80.00\n",
    "Tracing beam       2    -76.73\n",
    "Tracing beam       3    -73.47\n",
    "Tracing beam       4    -70.20\n",
    "Tracing beam       5    -66.94\n",
    "Tracing beam       6    -63.67\n",
    "Tracing beam       7    -60.41\n",
    "Tracing beam       8    -57.14\n",
    "Tracing beam       9    -53.88\n",
    "Tracing beam      10    -50.61\n",
    "Tracing beam      11    -47.35\n",
    "Tracing beam      12    -44.08\n",
    "Tracing beam      13    -40.82\n",
    "Tracing beam      14    -37.55\n",
    "Tracing beam      15    -34.29\n",
    "Tracing beam      16    -31.02\n",
    "Tracing beam      17    -27.76\n",
    "Tracing beam      18    -24.49\n",
    "Tracing beam      19    -21.22\n",
    "Tracing beam      20    -17.96\n",
    "Tracing beam      21    -14.69\n",
    "Tracing beam      22    -11.43\n",
    "Tracing beam      23     -8.16\n",
    "Tracing beam      24     -4.90\n",
    "Tracing beam      25     -1.63\n",
    "Tracing beam      26      1.63\n",
    "Tracing beam      27      4.90\n",
    "Tracing beam      28      8.16\n",
    "Tracing beam      29     11.43\n",
    "Tracing beam      30     14.69\n",
    "Tracing beam      31     17.96\n",
    "Tracing beam      32     21.22\n",
    "Tracing beam      33     24.49\n",
    "Tracing beam      34     27.76\n",
    "Tracing beam      35     31.02\n",
    "Tracing beam      36     34.29\n",
    "Tracing beam      37     37.55\n",
    "Tracing beam      38     40.82\n",
    "Tracing beam      39     44.08\n",
    "Tracing beam      40     47.35\n",
    "Tracing beam      41     50.61\n",
    "Tracing beam      42     53.88\n",
    "Tracing beam      43     57.14\n",
    "Tracing beam      44     60.41\n",
    "Tracing beam      45     63.67\n",
    "Tracing beam      46     66.94\n",
    "Tracing beam      47     70.20\n",
    "Tracing beam      48     73.47\n",
    "Tracing beam      49     76.73\n",
    "Tracing beam      50     80.00\n",
    "\n",
    " CPU Time =       0.250    s\n"
   ]
  },
  {
   "cell_type": "code",
   "execution_count": null,
   "metadata": {},
   "outputs": [],
   "source": [
    "This is *.ati file example."
   ]
  },
  {
   "cell_type": "code",
   "execution_count": null,
   "metadata": {},
   "outputs": [],
   "source": [
    "'L'\n",
    "2001\n",
    "0.000000 0.500000\n",
    "0.001000 0.515705\n",
    "0.002000 0.531395\n",
    "0.003000 0.547054\n",
    "0.004000 0.562667\n",
    "0.005000 0.578217\n",
    "0.006000 0.593691\n",
    "0.007000 0.609072\n",
    "0.008000 0.624345\n",
    "0.009000 0.639496\n",
    "0.010000 0.654508\n",
    "0.011000 0.669369\n",
    "0.012000 0.684062\n",
    "0.013000 0.698574\n",
    "0.014000 0.712890\n",
    "0.015000 0.726995\n",
    "0.016000 0.740877\n",
    "0.017000 0.754521\n",
    "1.998000 0.468605\n",
    "1.999000 0.484295\n",
    "2.000000 0.500000"
   ]
  },
  {
   "cell_type": "markdown",
   "metadata": {},
   "source": [
    "# Reference\n",
    "\n",
    "1. **M. Chitre 2021, “ARLPY python toolbox”** , https://github.com/org-arl/arlpy \n",
    "  \n",
    "2. **Ocean Acoustics Library.**https://oalib-acoustics.org/, Retrieved July 11, 2021.   "
   ]
  },
  {
   "cell_type": "code",
   "execution_count": null,
   "metadata": {},
   "outputs": [],
   "source": []
  }
 ],
 "metadata": {
  "kernelspec": {
   "display_name": "Python 3 (ipykernel)",
   "language": "python",
   "name": "python3"
  },
  "language_info": {
   "codemirror_mode": {
    "name": "ipython",
    "version": 3
   },
   "file_extension": ".py",
   "mimetype": "text/x-python",
   "name": "python",
   "nbconvert_exporter": "python",
   "pygments_lexer": "ipython3",
   "version": "3.10.12"
  },
  "latex_envs": {
   "LaTeX_envs_menu_present": true,
   "autoclose": false,
   "autocomplete": true,
   "bibliofile": "biblio.bib",
   "cite_by": "apalike",
   "current_citInitial": 1,
   "eqLabelWithNumbers": true,
   "eqNumInitial": 1,
   "hotkeys": {
    "equation": "Ctrl-E",
    "itemize": "Ctrl-I"
   },
   "labels_anchors": false,
   "latex_user_defs": false,
   "report_style_numbering": false,
   "user_envs_cfg": false
  }
 },
 "nbformat": 4,
 "nbformat_minor": 4
}
