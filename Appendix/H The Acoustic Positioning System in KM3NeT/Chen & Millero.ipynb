{
 "cells": [
  {
   "cell_type": "code",
   "execution_count": 13,
   "id": "f417cde6",
   "metadata": {},
   "outputs": [],
   "source": [
    "import pandas as pd\n",
    "import matplotlib.pyplot as plt"
   ]
  },
  {
   "cell_type": "markdown",
   "id": "7456f625",
   "metadata": {},
   "source": [
    "http://resource.npl.co.uk/acoustics/techguides/soundseawater/underlying-phys.html"
   ]
  },
  {
   "cell_type": "code",
   "execution_count": 1,
   "id": "9b641a27",
   "metadata": {},
   "outputs": [],
   "source": [
    "C00 = 1402.388\n",
    "C01 = 5.03830\n",
    "C02 = -5.81090E-2\n",
    "C03 = 3.3432E-4\n",
    "C04 = -1.47797E-6\n",
    "C05 = 3.1419E-9\n",
    "C10 = 0.153563\n",
    "C11 = 6.8999E-4\n",
    "C12 = -8.1829E-6\n",
    "C13 = 1.3632E-7\n",
    "C14 = -6.1260E-10\n",
    "C20 = 3.1260E-5\n",
    "C21 = -1.7111E-6\n",
    "C22 = 2.5986E-8\n",
    "C23 = -2.5353E-10\n",
    "C24 = 1.0415E-12\n",
    "C30 = -9.7729E-9\n",
    "C31 = 3.8513E-10\n",
    "C32 = -2.3654E-12\n",
    "A00 = 1.389\n",
    "A01 = -1.262E-2\n",
    "A02 = 7.166E-5\n",
    "A03 = 2.008E-6\n",
    "A04 = -3.21E-8\n",
    "A10 = 9.4742E-5\n",
    "A11 = -1.2583E-5\n",
    "A12 = -6.4928E-8\n",
    "A13 = 1.0515E-8\n",
    "A14 = -2.0142E-10\n",
    "A20 = -3.9064E-7\n",
    "A21 = 9.1061E-9\n",
    "A22 = -1.6009E-10\n",
    "A23 = 7.994E-12\n",
    "A30 = 1.100E-10\n",
    "A31 = 6.651E-12\n",
    "A32 = -3.391E-13\n",
    "B00 = -1.922E-2\n",
    "B01 = -4.42E-5\n",
    "B10 = 7.3637E-5\n",
    "B11 = 1.7950E-7\n",
    "D00 = 1.727E-3\n",
    "D10 = -7.9836E-6"
   ]
  },
  {
   "cell_type": "code",
   "execution_count": 39,
   "id": "42551057",
   "metadata": {},
   "outputs": [],
   "source": [
    "coefficients = {\n",
    "    # Chen-Millero\n",
    "    \"C00\": 1402.388,\n",
    "    \"C01\": 5.03830,\n",
    "    \"C02\": -5.81090E-2,\n",
    "    \"C03\": 3.3432E-4,\n",
    "    \"C04\": -1.47797E-6,\n",
    "    \"C05\": 3.1419E-9,\n",
    "    \"C10\": 0.153563,\n",
    "    \"C11\": 6.8999E-4,\n",
    "    \"C12\": -8.1829E-6,\n",
    "    \"C13\": 1.3632E-7,\n",
    "    \"C14\": -6.1260E-10,\n",
    "    \"C20\": 3.1260E-5,\n",
    "    \"C21\": -1.7111E-6,\n",
    "    \"C22\": 2.5986E-8,\n",
    "    \"C23\": -2.5353E-10,\n",
    "    \"C24\": 1.0415E-12,\n",
    "    \"C30\": -9.7729E-9,\n",
    "    \"C31\": 3.8513E-10,\n",
    "    \"C32\": -2.3654E-12,\n",
    "    \"A00\": 1.389,\n",
    "    \"A01\": -1.262E-2,\n",
    "    \"A02\": 7.166E-5,\n",
    "    \"A03\": 2.008E-6,\n",
    "    \"A04\": -3.21E-8,\n",
    "    \"A10\": 9.4742E-5,\n",
    "    \"A11\": -1.2583E-5,\n",
    "    \"A12\": -6.4928E-8,\n",
    "    \"A13\": 1.0515E-8,\n",
    "    \"A14\": -2.0142E-10,\n",
    "    \"A20\": -3.9064E-7,\n",
    "    \"A21\": 9.1061E-9,\n",
    "    \"A22\": -1.6009E-10,\n",
    "    \"A23\": 7.994E-12,\n",
    "    \"A30\": 1.100E-10,\n",
    "    \"A31\": 6.651E-12,\n",
    "    \"A32\": -3.391E-13,\n",
    "    \"B00\": -1.922E-2,\n",
    "    \"B01\": -4.42E-5,\n",
    "    \"B10\": 7.3637E-5,\n",
    "    \"B11\": 1.7950E-7,\n",
    "    \"D00\": 1.727E-3,\n",
    "    \"D10\": -7.9836E-6,\n",
    "    \n",
    "    # Delgrosso\n",
    "    \"C000\": 1402.392,\n",
    "    \"CT1\": 0.5012285E1,\n",
    "    \"CT2\": -0.551184E-1,\n",
    "    \"CT3\": 0.221649E-3,\n",
    "    \"CS1\": 0.1329530E1,\n",
    "    \"CS2\": 0.1288598E-3,\n",
    "    \"CP1\": 0.1560592,\n",
    "    \"CP2\": 0.2449993E-4,\n",
    "    \"CP3\": -0.8833959E-8,\n",
    "    \"CST\": -0.1275936E-1,\n",
    "    \"CTP\": 0.6353509E-2,\n",
    "    \"CT2P2\": 0.2656174E-7,\n",
    "    \"CTP2\": -0.1593895E-5,\n",
    "    \"CTP3\": 0.5222483E-9,\n",
    "    \"CT3P\": -0.4383615E-6,\n",
    "    \"CS2P2\": -0.1616745E-8,\n",
    "    \"CST2\": 0.9688441E-4,\n",
    "    \"CS2TP\": 0.4857614E-5,\n",
    "    \"CSTP\": -0.3406824E-3\n",
    "}"
   ]
  },
  {
   "cell_type": "code",
   "execution_count": 23,
   "id": "f4899b31",
   "metadata": {},
   "outputs": [],
   "source": [
    "def Cw(T, P):\n",
    "    C = coefficients\n",
    "    return (\n",
    "        (C[\"C00\"] + C[\"C01\"]*T + C[\"C02\"]*T**2 + C[\"C03\"]*T**3 + C[\"C04\"]*T**4 + C[\"C05\"]*T**5) +\n",
    "        (C[\"C10\"] + C[\"C11\"]*T + C[\"C12\"]*T**2 + C[\"C13\"]*T**3 + C[\"C14\"]*T**4)*P +\n",
    "        (C[\"C20\"] + C[\"C21\"]*T + C[\"C22\"]*T**2 + C[\"C23\"]*T**3 + C[\"C24\"]*T**4)*P**2 +\n",
    "        (C[\"C30\"] + C[\"C31\"]*T + C[\"C32\"]*T**2)*P**3\n",
    "    )\n",
    "\n",
    "def A(T, P):\n",
    "    C = coefficients\n",
    "    return (\n",
    "        (C[\"A00\"] + C[\"A01\"]*T + C[\"A02\"]*T**2 + C[\"A03\"]*T**3 + C[\"A04\"]*T**4) +\n",
    "        (C[\"A10\"] + C[\"A11\"]*T + C[\"A12\"]*T**2 + C[\"A13\"]*T**3 + C[\"A14\"]*T**4)*P +\n",
    "        (C[\"A20\"] + C[\"A21\"]*T + C[\"A22\"]*T**2 + C[\"A23\"]*T**3)*P**2 +\n",
    "        (C[\"A30\"] + C[\"A31\"]*T + C[\"A32\"]*T**2)*P**3\n",
    "    )\n",
    "\n",
    "def B(T, P):\n",
    "    C = coefficients\n",
    "    return (\n",
    "        C[\"B00\"] + C[\"B01\"]*T + (C[\"B10\"] + C[\"B11\"]*T)*P\n",
    "    )\n",
    "\n",
    "def D(T, P):\n",
    "    C = coefficients\n",
    "    return (\n",
    "        C[\"D00\"] + C[\"D10\"]*P\n",
    "    )\n",
    "\n",
    "def sound_velocity(S, T, P):\n",
    "    Cw_value = Cw(T, P)\n",
    "    A_value = A(T, P)\n",
    "    B_value = B(T, P)\n",
    "    D_value = D(T, P)\n",
    "    \n",
    "    return Cw_value + A_value*S + B_value*S**(3/2) + D_value*S**2\n"
   ]
  },
  {
   "cell_type": "code",
   "execution_count": 22,
   "id": "3e4813f8",
   "metadata": {},
   "outputs": [],
   "source": [
    "# Example of reading from a file\n",
    "df = pd.read_csv('ARCA DIVE.txt', sep=\"\\s+\", header=None)\n",
    "\n",
    "Pressure = df[0].values         # db\n",
    "Temperature = df[1].values      # deg C\n",
    "Conductivity = df[2].values     # S/m\n",
    "nbin = df[3].values             # number of scans per bin\n",
    "rho = df[4].values              # kg/m^3\n",
    "Salinity = df[5].values         # PSU\n",
    "Depth = df[6].values            # m\n",
    "v_D = df[7].values              # m/s\n",
    "v_CM = df[8].values             # m/s\n",
    "flag = df[9].values             # flag"
   ]
  },
  {
   "cell_type": "code",
   "execution_count": 50,
   "id": "2bbb0582",
   "metadata": {},
   "outputs": [],
   "source": [
    "check = []\n",
    "\n",
    "for i in range(0, len(P)):\n",
    "    Sal = Salinity[i]\n",
    "    Tem = Temperature[i]\n",
    "    Pre = Pressure[i] / 10\n",
    "    \n",
    "    sound_speed = sound_velocity(Sal, Tem, Pre)\n",
    "    check.append(sound_speed)"
   ]
  },
  {
   "cell_type": "code",
   "execution_count": 51,
   "id": "405f953e",
   "metadata": {},
   "outputs": [
    {
     "data": {
      "text/plain": [
       "(1400.0, 1570.0)"
      ]
     },
     "execution_count": 51,
     "metadata": {},
     "output_type": "execute_result"
    },
    {
     "data": {
      "image/png": "[encoded data removed]",
      "text/plain": [
       "<Figure size 640x480 with 1 Axes>"
      ]
     },
     "metadata": {},
     "output_type": "display_data"
    }
   ],
   "source": [
    "plt.plot(v_D, Depth, color=\"blue\")\n",
    "plt.plot(v_CM, Depth, color=\"red\")\n",
    "plt.plot(check, Depth, color=\"orange\")\n",
    "\n",
    "plt.gca().invert_yaxis()\n",
    "plt.xlim(1400, 1570)"
   ]
  },
  {
   "cell_type": "code",
   "execution_count": 36,
   "id": "a0e5c685",
   "metadata": {},
   "outputs": [],
   "source": [
    "def delta_CT(T):\n",
    "    CT1 = coefficients[\"CT1\"]\n",
    "    CT2 = coefficients[\"CT2\"]\n",
    "    CT3 = coefficients[\"CT3\"]\n",
    "    return CT1 * T + CT2 * T**2 + CT3 * T**3\n",
    "\n",
    "def delta_CS(S):\n",
    "    CS1 = coefficients[\"CS1\"]\n",
    "    CS2 = coefficients[\"CS2\"]\n",
    "    return CS1 * S + CS2 * S**2\n",
    "\n",
    "def delta_CP(P):\n",
    "    CP1 = coefficients[\"CP1\"]\n",
    "    CP2 = coefficients[\"CP2\"]\n",
    "    CP3 = coefficients[\"CP3\"]\n",
    "    return CP1 * P + CP2 * P**2 + CP3 * P**3\n",
    "\n",
    "def delta_CSTP(S, T, P):\n",
    "    CST = coefficients[\"CST\"]\n",
    "    CTP = coefficients[\"CTP\"]\n",
    "    CT2P2 = coefficients[\"CT2P2\"]\n",
    "    CTP2 = coefficients[\"CTP2\"]\n",
    "    CTP3 = coefficients[\"CTP3\"]\n",
    "    CT3P = coefficients[\"CT3P\"]\n",
    "    CS2P2 = coefficients[\"CS2P2\"]\n",
    "    CST2 = coefficients[\"CST2\"]\n",
    "    CS2TP = coefficients[\"CS2TP\"]\n",
    "    CSTP = coefficients[\"CSTP\"]\n",
    "    \n",
    "    return (CTP * T * P + CT3P * T**3 * P + CTP2 * T * P**2 + \n",
    "            CT2P2 * T**2 * P**2 + CTP3 * T * P**3 + CST * S * T + \n",
    "            CST2 * S * T**2 + CSTP * S * T * P + CS2TP * S**2 * T * P + \n",
    "            CS2P2 * S**2 * P**2)"
   ]
  },
  {
   "cell_type": "code",
   "execution_count": 56,
   "id": "1d830574",
   "metadata": {},
   "outputs": [],
   "source": [
    "check2 = []\n",
    "\n",
    "for i in range(0, len(P)):\n",
    "    Sal = Salinity[i]\n",
    "    Tem = Temperature[i]\n",
    "    Pre = Pressure[i] / 10\n",
    "    C000 = coefficients[\"C000\"]\n",
    "    \n",
    "    C_S_T_P = C000 + delta_CT(Tem) + delta_CS(Sal) + delta_CP(Pre) + delta_CSTP(Sal, Tem, Pre)\n",
    "    sound_speed = sound_velocity(Sal, Tem, Pre)\n",
    "    check2.append(sound_speed)"
   ]
  },
  {
   "cell_type": "code",
   "execution_count": 59,
   "id": "10195c75",
   "metadata": {},
   "outputs": [
    {
     "data": {
      "image/png": "[encoded data removed]",
      "text/plain": [
       "<Figure size 640x480 with 1 Axes>"
      ]
     },
     "metadata": {},
     "output_type": "display_data"
    }
   ],
   "source": [
    "plt.plot(v_D, Depth, color=\"blue\")\n",
    "#plt.plot(v_CM, Depth, color=\"red\")\n",
    "plt.plot(check, Depth, color=\"orange\")\n",
    "plt.plot(check2, Depth, color=\"gold\")\n",
    "\n",
    "plt.gca().invert_yaxis()\n",
    "#plt.xlim(1400, 1570)"
   ]
  },
  {
   "cell_type": "code",
   "execution_count": 68,
   "id": "a186bb55",
   "metadata": {},
   "outputs": [
    {
     "name": "stdout",
     "output_type": "stream",
     "text": [
      "0.10893324639005186\n",
      "244.6685860124894\n"
     ]
    }
   ],
   "source": [
    "difference = [i - j for i, j in zip(check2, v_D)]\n",
    "print(max(difference))\n",
    "\n",
    "print(sum(difference))"
   ]
  }
 ],
 "metadata": {
  "kernelspec": {
   "display_name": "Python 3 (ipykernel)",
   "language": "python",
   "name": "python3"
  },
  "language_info": {
   "codemirror_mode": {
    "name": "ipython",
    "version": 3
   },
   "file_extension": ".py",
   "mimetype": "text/x-python",
   "name": "python",
   "nbconvert_exporter": "python",
   "pygments_lexer": "ipython3",
   "version": "3.11.4"
  }
 },
 "nbformat": 4,
 "nbformat_minor": 5
}
